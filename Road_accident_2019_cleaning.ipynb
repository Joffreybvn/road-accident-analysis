{
 "nbformat": 4,
 "nbformat_minor": 0,
 "metadata": {
  "colab": {
   "name": "Road accident Belgium 2019 - Cleaning.ipynb",
   "provenance": [],
   "toc_visible": true,
   "authorship_tag": "ABX9TyPBkpq1uHcRiw7OWOv6gzpe",
   "include_colab_link": true
  },
  "kernelspec": {
   "name": "python3",
   "display_name": "Python 3"
  }
 },
 "cells": [
  {
   "cell_type": "markdown",
   "source": [
    "<a href=\"https://colab.research.google.com/github/Joffreybvn/road-accident-belgium-analysis/blob/master/Road_accident_Belgium_2019_Cleaning.ipynb\" target=\"_parent\"><img src=\"https://colab.research.google.com/assets/colab-badge.svg\" alt=\"Open In Colab\"/></a>"
   ],
   "metadata": {
    "collapsed": false
   }
  },
  {
   "cell_type": "markdown",
   "source": [
    "# Installs & imports"
   ],
   "metadata": {
    "collapsed": false
   }
  },
  {
   "cell_type": "code",
   "execution_count": null,
   "outputs": [],
   "source": [
    "# Dataset download\n",
    "!wget -N https://github.com/Joffreybvn/road-accident-belgium-analysis/blob/master/datasets/raw/TF_ACCIDENTS_2019.xlsx?raw=true\n",
    "!wget -N https://raw.githubusercontent.com/Joffreybvn/road-accident-belgium-analysis/master/datasets/raw/BELGIUM-Municipalities.geojson"
   ],
   "metadata": {
    "collapsed": false,
    "pycharm": {
     "name": "#%%\n"
    }
   }
  },
  {
   "cell_type": "markdown",
   "source": [
    "## Packages install"
   ],
   "metadata": {
    "collapsed": false
   }
  },
  {
   "cell_type": "code",
   "execution_count": null,
   "outputs": [],
   "source": [
    "# Install last Seaborn vesrion\n",
    "!pip install seaborn --upgrade"
   ],
   "metadata": {
    "collapsed": false,
    "pycharm": {
     "name": "#%%\n"
    }
   }
  },
  {
   "cell_type": "code",
   "execution_count": null,
   "outputs": [],
   "source": [
    "# Geopandas, geoplot and folium install\n",
    "\n",
    "%%time\n",
    "\n",
    "try:\n",
    "  import geopandas as gpd\n",
    "  import geoplot as gplt\n",
    "  import folium\n",
    "  \n",
    "except:\n",
    "  !pip install folium\n",
    "  !pip install git+git://github.com/geopandas/geopandas.git\n",
    "  !apt install proj-bin libproj-dev libgeos-dev\n",
    "  !pip install git+git://github.com/ResidentMario/geoplot.git"
   ],
   "metadata": {
    "collapsed": false,
    "pycharm": {
     "name": "#%%\n"
    }
   }
  },
  {
   "cell_type": "markdown",
   "source": [
    "## Packages imports"
   ],
   "metadata": {
    "collapsed": false
   }
  },
  {
   "cell_type": "code",
   "execution_count": null,
   "outputs": [],
   "source": [
    "# Allow to print multiple output \n",
    "from IPython.core.interactiveshell import InteractiveShell \n",
    "InteractiveShell.ast_node_interactivity = \"all\""
   ],
   "metadata": {
    "collapsed": false,
    "pycharm": {
     "name": "#%%\n"
    }
   }
  },
  {
   "cell_type": "code",
   "execution_count": null,
   "outputs": [],
   "source": [
    "import geopandas as gpd\n",
    "import geoplot as gplt\n",
    "#import folium\n",
    "#from scipy import stats\n",
    "\n",
    "from datetime import datetime\n",
    "import pandas as pd\n",
    "import numpy  as np\n",
    "import matplotlib.pyplot as plt\n",
    "import matplotlib\n",
    "import seaborn as sns\n",
    "\n",
    "%matplotlib inline"
   ],
   "metadata": {
    "collapsed": false,
    "pycharm": {
     "name": "#%%\n"
    }
   }
  },
  {
   "cell_type": "markdown",
   "source": [
    "## Useful functions"
   ],
   "metadata": {
    "collapsed": false
   }
  },
  {
   "cell_type": "code",
   "execution_count": null,
   "outputs": [],
   "source": [
    "def movecol(df, cols_to_move=[], ref_col='', place='After'):\n",
    "    \n",
    "    cols = df.columns.tolist()\n",
    "    if place == 'After':\n",
    "        seg1 = cols[:list(cols).index(ref_col) + 1]\n",
    "        seg2 = cols_to_move\n",
    "    if place == 'Before':\n",
    "        seg1 = cols[:list(cols).index(ref_col)]\n",
    "        seg2 = cols_to_move + [ref_col]\n",
    "    \n",
    "    seg1 = [i for i in seg1 if i not in seg2]\n",
    "    seg3 = [i for i in cols if i not in seg1 + seg2]\n",
    "    \n",
    "    return(df[seg1 + seg2 + seg3])"
   ],
   "metadata": {
    "collapsed": false,
    "pycharm": {
     "name": "#%%\n"
    }
   }
  },
  {
   "cell_type": "markdown",
   "source": [
    "## Datasets creation"
   ],
   "metadata": {
    "collapsed": false
   }
  },
  {
   "cell_type": "code",
   "execution_count": null,
   "outputs": [],
   "source": [
    "df = pd.read_excel('/content/TF_ACCIDENTS_2019.xlsx?raw=true')\n",
    "# map_df = gpd.read_file('/content/BELGIUM-Municipalities.geojson')"
   ],
   "metadata": {
    "collapsed": false,
    "pycharm": {
     "name": "#%%\n"
    }
   }
  },
  {
   "cell_type": "markdown",
   "source": [
    "# Dataset general cleaning"
   ],
   "metadata": {
    "collapsed": false
   }
  },
  {
   "cell_type": "code",
   "execution_count": null,
   "outputs": [],
   "source": [
    "df.head()\n",
    "df.shape"
   ],
   "metadata": {
    "collapsed": false,
    "pycharm": {
     "name": "#%%\n"
    }
   }
  },
  {
   "cell_type": "markdown",
   "source": [
    "It seems we have some duplicated columns: In french and in deutch. And some useless geolocalisation columns. Remove them:"
   ],
   "metadata": {
    "collapsed": false
   }
  },
  {
   "cell_type": "code",
   "execution_count": null,
   "outputs": [],
   "source": [
    "df.drop(columns=['CD_DAY_OF_WEEK',\n",
    "                 'TX_DAY_OF_WEEK_DESCR_FR',\n",
    "                 'TX_DAY_OF_WEEK_DESCR_NL',\n",
    "                 'CD_BUILD_UP_AREA',\n",
    "                 'CD_COLL_TYPE',\n",
    "                 'TX_BUILD_UP_AREA_DESCR_NL',\n",
    "                 'TX_COLL_TYPE_DESCR_NL',\n",
    "                 'CD_LIGHT_COND',\n",
    "                 'TX_LIGHT_COND_DESCR_NL',\n",
    "                 'CD_ROAD_TYPE',\n",
    "                 'TX_ROAD_TYPE_DESCR_NL',\n",
    "                 'TX_MUNTY_DESCR_NL',\n",
    "                 'CD_DSTR_REFNIS',\n",
    "                 'TX_ADM_DSTR_DESCR_NL',\n",
    "                 'TX_ADM_DSTR_DESCR_FR',\n",
    "                 'TX_PROV_DESCR_NL',\n",
    "                 'TX_RGN_DESCR_NL'], inplace=True)"
   ],
   "metadata": {
    "collapsed": false,
    "pycharm": {
     "name": "#%%\n"
    }
   }
  },
  {
   "cell_type": "code",
   "execution_count": null,
   "outputs": [],
   "source": [
    "df.head(3)"
   ],
   "metadata": {
    "collapsed": false,
    "pycharm": {
     "name": "#%%\n"
    }
   }
  },
  {
   "cell_type": "markdown",
   "source": [
    "## Date creation"
   ],
   "metadata": {
    "collapsed": false
   }
  },
  {
   "cell_type": "markdown",
   "source": [
    "Some hours are set to -1, some others are on 24."
   ],
   "metadata": {
    "collapsed": false
   }
  },
  {
   "cell_type": "code",
   "execution_count": null,
   "outputs": [],
   "source": [
    "df['DT_HOUR'].unique()"
   ],
   "metadata": {
    "collapsed": false,
    "pycharm": {
     "name": "#%%\n"
    }
   }
  },
  {
   "cell_type": "markdown",
   "source": [
    "Check how many are to -1 and drop them:"
   ],
   "metadata": {
    "collapsed": false
   }
  },
  {
   "cell_type": "code",
   "execution_count": null,
   "outputs": [],
   "source": [
    "len(df.loc[df['DT_HOUR'] == -1,:])\n",
    "df = df[df['DT_HOUR'] != -1]"
   ],
   "metadata": {
    "collapsed": false,
    "pycharm": {
     "name": "#%%\n"
    }
   }
  },
  {
   "cell_type": "markdown",
   "source": [
    "Hours can go from 0 to 23. Change entries with 24 to 23"
   ],
   "metadata": {
    "collapsed": false
   }
  },
  {
   "cell_type": "code",
   "execution_count": null,
   "outputs": [],
   "source": [
    "df.loc[df['DT_HOUR'] == 24, 'DT_HOUR'] = 23"
   ],
   "metadata": {
    "collapsed": false,
    "pycharm": {
     "name": "#%%\n"
    }
   }
  },
  {
   "cell_type": "markdown",
   "source": [
    "Create the datetime field with date and hours:"
   ],
   "metadata": {
    "collapsed": false
   }
  },
  {
   "cell_type": "code",
   "execution_count": null,
   "outputs": [],
   "source": [
    "# Create the 'date' field\n",
    "df_date = df[['DT_DAY', 'DT_HOUR']].astype(str)\n",
    "df['datetime'] = pd.to_datetime(df_date.agg('-'.join, axis=1), format='%Y-%m-%d-%H')\n",
    "\n",
    "# Create the week_day fiel\n",
    "df['week_day'] = df['datetime'].dt.day_name()\n",
    "\n",
    "# Drop the DT_DAY & DT_HOUR:\n",
    "df.drop(columns=['DT_DAY', 'DT_HOUR'], inplace=True)"
   ],
   "metadata": {
    "collapsed": false,
    "pycharm": {
     "name": "#%%\n"
    }
   }
  },
  {
   "cell_type": "markdown",
   "source": [
    "Create the date field"
   ],
   "metadata": {
    "collapsed": false
   }
  },
  {
   "cell_type": "code",
   "execution_count": null,
   "outputs": [],
   "source": [
    "#df['date'] = df['datetime'].apply(lambda x: datetime(year=x.year, month=x.month, day=x.day))\t\n",
    "df.set_index(df[\"datetime\"], inplace=True)\n",
    "\n",
    "# Set as index\n",
    "df.head(3)"
   ],
   "metadata": {
    "collapsed": false,
    "pycharm": {
     "name": "#%%\n"
    }
   }
  },
  {
   "cell_type": "markdown",
   "source": [
    "## Renaming the columns"
   ],
   "metadata": {
    "collapsed": false
   }
  },
  {
   "cell_type": "code",
   "execution_count": null,
   "outputs": [],
   "source": [
    "df.rename(columns = {'TX_DAY_OF_WEEK_DESCR_FR':'week_day',\n",
    "                     'TX_BUILD_UP_AREA_DESCR_FR':'incident_place',\n",
    "                     'TX_COLL_TYPE_DESCR_FR':'collision_type',\n",
    "                     'TX_LIGHT_COND_DESCR_FR': 'light_condition',\n",
    "                     'TX_ROAD_TYPE_DESCR_FR': 'road_type',\n",
    "                     'CD_MUNTY_REFNIS': 'municipality_ins',\n",
    "                     'TX_MUNTY_DESCR_FR': 'municipality_name',\n",
    "                     'CD_PROV_REFNIS': 'province_ins',\n",
    "                     'TX_PROV_DESCR_FR': 'province_name',\n",
    "                     'CD_RGN_REFNIS': 'region_ins',\n",
    "                     'TX_RGN_DESCR_FR': 'region_name',\n",
    "                     'MS_ACCT': 'dead_injured',\n",
    "                     'MS_ACCT_WITH_DEAD': 'dead_directly',\n",
    "                     'MS_ACCT_WITH_DEAD_30_DAYS': 'dead_total_30_days',\n",
    "                     'MS_ACCT_WITH_MORY_INJ': 'injured_mortally',\n",
    "                     'MS_ACCT_WITH_SERLY_INJ': 'injured_severely',\n",
    "                     'MS_ACCT_WITH_SLY_INJ': 'injured_sightly'}, inplace = True) "
   ],
   "metadata": {
    "collapsed": false,
    "pycharm": {
     "name": "#%%\n"
    }
   }
  },
  {
   "cell_type": "code",
   "execution_count": null,
   "outputs": [],
   "source": [
    "df.head(3)"
   ],
   "metadata": {
    "collapsed": false,
    "pycharm": {
     "name": "#%%\n"
    }
   }
  },
  {
   "cell_type": "markdown",
   "source": [
    "Reordering the columns"
   ],
   "metadata": {
    "collapsed": false
   }
  },
  {
   "cell_type": "code",
   "execution_count": null,
   "outputs": [],
   "source": [
    "# Put the date as first column\n",
    "df = movecol(df, cols_to_move=['week_day'], ref_col='incident_place', place='Before')\n",
    "\n",
    "df = movecol(df, cols_to_move=['light_condition',\n",
    "                               'road_type',\n",
    "                               'incident_place',\n",
    "                               'collision_type',\n",
    "                               'dead_injured',\n",
    "                               'dead_total_30_days',\n",
    "                               'dead_directly',\n",
    "                               'injured_mortally',\n",
    "                               'injured_severely',\n",
    "                               'injured_sightly'], ref_col='week_day', place='After')"
   ],
   "metadata": {
    "collapsed": false,
    "pycharm": {
     "name": "#%%\n"
    }
   }
  },
  {
   "cell_type": "code",
   "execution_count": null,
   "outputs": [],
   "source": [
    "df.head()\n"
   ],
   "metadata": {
    "collapsed": false,
    "pycharm": {
     "name": "#%%\n"
    }
   }
  }
 ]
}