{
  "nbformat": 4,
  "nbformat_minor": 0,
  "metadata": {
    "colab": {
      "name": "Road accident Belgium 2019 - Cleaning.ipynb",
      "provenance": [],
      "toc_visible": true,
      "authorship_tag": "ABX9TyPBkpq1uHcRiw7OWOv6gzpe",
      "include_colab_link": true
    },
    "kernelspec": {
      "name": "python3",
      "display_name": "Python 3"
    }
  },
  "cells": [
    {
      "cell_type": "markdown",
      "metadata": {
        "id": "view-in-github",
        "colab_type": "text"
      },
      "source": [
        "<a href=\"https://colab.research.google.com/github/Joffreybvn/road-accident-belgium-analysis/blob/master/Road_accident_Belgium_2019_Cleaning.ipynb\" target=\"_parent\"><img src=\"https://colab.research.google.com/assets/colab-badge.svg\" alt=\"Open In Colab\"/></a>"
      ]
    },
    {
      "cell_type": "markdown",
      "metadata": {
        "id": "RbzPgDZrNWrF"
      },
      "source": [
        "# Installs & imports"
      ]
    },
    {
      "cell_type": "code",
      "metadata": {
        "id": "68Q9hWcHJ7eA",
        "outputId": "37631872-44e5-408b-fc1d-19dbae9ff5c5",
        "colab": {
          "base_uri": "https://localhost:8080/"
        }
      },
      "source": [
        "# Dataset download\n",
        "!wget -N https://github.com/Joffreybvn/road-accident-belgium-analysis/blob/master/datasets/raw/TF_ACCIDENTS_2019.xlsx?raw=true\n",
        "!wget -N https://raw.githubusercontent.com/Joffreybvn/road-accident-belgium-analysis/master/datasets/raw/BELGIUM-Municipalities.geojson"
      ],
      "execution_count": null,
      "outputs": [
        {
          "output_type": "stream",
          "text": [
            "--2020-09-26 15:43:52--  https://github.com/Joffreybvn/road-accident-belgium-analysis/blob/master/datasets/raw/TF_ACCIDENTS_2019.xlsx?raw=true\n",
            "Resolving github.com (github.com)... 140.82.121.4\n",
            "Connecting to github.com (github.com)|140.82.121.4|:443... connected.\n",
            "HTTP request sent, awaiting response... 302 Found\n",
            "Location: https://github.com/Joffreybvn/road-accident-belgium-analysis/raw/master/datasets/raw/TF_ACCIDENTS_2019.xlsx [following]\n",
            "--2020-09-26 15:43:52--  https://github.com/Joffreybvn/road-accident-belgium-analysis/raw/master/datasets/raw/TF_ACCIDENTS_2019.xlsx\n",
            "Reusing existing connection to github.com:443.\n",
            "HTTP request sent, awaiting response... 302 Found\n",
            "Location: https://raw.githubusercontent.com/Joffreybvn/road-accident-belgium-analysis/master/datasets/raw/TF_ACCIDENTS_2019.xlsx [following]\n",
            "--2020-09-26 15:43:52--  https://raw.githubusercontent.com/Joffreybvn/road-accident-belgium-analysis/master/datasets/raw/TF_ACCIDENTS_2019.xlsx\n",
            "Resolving raw.githubusercontent.com (raw.githubusercontent.com)... 151.101.0.133, 151.101.64.133, 151.101.128.133, ...\n",
            "Connecting to raw.githubusercontent.com (raw.githubusercontent.com)|151.101.0.133|:443... connected.\n",
            "HTTP request sent, awaiting response... 200 OK\n",
            "Length: 4576042 (4.4M) [application/octet-stream]\n",
            "Saving to: ‘TF_ACCIDENTS_2019.xlsx?raw=true’\n",
            "\n",
            "TF_ACCIDENTS_2019.x 100%[===================>]   4.36M  --.-KB/s    in 0.1s    \n",
            "\n",
            "Last-modified header missing -- time-stamps turned off.\n",
            "2020-09-26 15:43:53 (37.4 MB/s) - ‘TF_ACCIDENTS_2019.xlsx?raw=true’ saved [4576042/4576042]\n",
            "\n",
            "--2020-09-26 15:43:53--  https://raw.githubusercontent.com/Joffreybvn/road-accident-belgium-analysis/master/datasets/raw/BELGIUM-Municipalities.geojson\n",
            "Resolving raw.githubusercontent.com (raw.githubusercontent.com)... 151.101.0.133, 151.101.64.133, 151.101.128.133, ...\n",
            "Connecting to raw.githubusercontent.com (raw.githubusercontent.com)|151.101.0.133|:443... connected.\n",
            "HTTP request sent, awaiting response... 200 OK\n",
            "Length: 58483909 (56M) [text/plain]\n",
            "Saving to: ‘BELGIUM-Municipalities.geojson’\n",
            "\n",
            "BELGIUM-Municipalit 100%[===================>]  55.77M   132MB/s    in 0.4s    \n",
            "\n",
            "Last-modified header missing -- time-stamps turned off.\n",
            "2020-09-26 15:43:54 (132 MB/s) - ‘BELGIUM-Municipalities.geojson’ saved [58483909/58483909]\n",
            "\n"
          ],
          "name": "stdout"
        }
      ]
    },
    {
      "cell_type": "markdown",
      "metadata": {
        "id": "z2MRouMb-rXx"
      },
      "source": [
        "## Seaborn install"
      ]
    },
    {
      "cell_type": "code",
      "metadata": {
        "id": "mmrS_Ao0W5kE",
        "outputId": "9dc40519-1364-41d3-b1f3-efe69d4725f0",
        "colab": {
          "base_uri": "https://localhost:8080/"
        }
      },
      "source": [
        "# Install last Seaborn vesrion\n",
        "!pip install seaborn --upgrade"
      ],
      "execution_count": null,
      "outputs": [
        {
          "output_type": "stream",
          "text": [
            "Requirement already up-to-date: seaborn in /usr/local/lib/python3.6/dist-packages (0.11.0)\n",
            "Requirement already satisfied, skipping upgrade: scipy>=1.0 in /usr/local/lib/python3.6/dist-packages (from seaborn) (1.4.1)\n",
            "Requirement already satisfied, skipping upgrade: matplotlib>=2.2 in /usr/local/lib/python3.6/dist-packages (from seaborn) (3.2.2)\n",
            "Requirement already satisfied, skipping upgrade: numpy>=1.15 in /usr/local/lib/python3.6/dist-packages (from seaborn) (1.18.5)\n",
            "Requirement already satisfied, skipping upgrade: pandas>=0.23 in /usr/local/lib/python3.6/dist-packages (from seaborn) (1.0.5)\n",
            "Requirement already satisfied, skipping upgrade: cycler>=0.10 in /usr/local/lib/python3.6/dist-packages (from matplotlib>=2.2->seaborn) (0.10.0)\n",
            "Requirement already satisfied, skipping upgrade: kiwisolver>=1.0.1 in /usr/local/lib/python3.6/dist-packages (from matplotlib>=2.2->seaborn) (1.2.0)\n",
            "Requirement already satisfied, skipping upgrade: python-dateutil>=2.1 in /usr/local/lib/python3.6/dist-packages (from matplotlib>=2.2->seaborn) (2.8.1)\n",
            "Requirement already satisfied, skipping upgrade: pyparsing!=2.0.4,!=2.1.2,!=2.1.6,>=2.0.1 in /usr/local/lib/python3.6/dist-packages (from matplotlib>=2.2->seaborn) (2.4.7)\n",
            "Requirement already satisfied, skipping upgrade: pytz>=2017.2 in /usr/local/lib/python3.6/dist-packages (from pandas>=0.23->seaborn) (2018.9)\n",
            "Requirement already satisfied, skipping upgrade: six in /usr/local/lib/python3.6/dist-packages (from cycler>=0.10->matplotlib>=2.2->seaborn) (1.15.0)\n"
          ],
          "name": "stdout"
        }
      ]
    },
    {
      "cell_type": "markdown",
      "metadata": {
        "id": "_Q2ZHjDG-uDr"
      },
      "source": [
        "## Geopandas install"
      ]
    },
    {
      "cell_type": "code",
      "metadata": {
        "id": "Cflt7hLE-vzD",
        "outputId": "b510f089-7a86-47f4-ea3f-715378698b2a",
        "colab": {
          "base_uri": "https://localhost:8080/"
        }
      },
      "source": [
        "%%time\n",
        "\n",
        "try:\n",
        "  import geopandas as gpd\n",
        "  import geoplot as gplt\n",
        "  import folium\n",
        "  \n",
        "except:\n",
        "  !pip install folium\n",
        "  !pip install git+git://github.com/geopandas/geopandas.git\n",
        "  !apt install proj-bin libproj-dev libgeos-dev\n",
        "  !pip install git+git://github.com/ResidentMario/geoplot.git"
      ],
      "execution_count": null,
      "outputs": [
        {
          "output_type": "stream",
          "text": [
            "CPU times: user 17 µs, sys: 1e+03 ns, total: 18 µs\n",
            "Wall time: 23.4 µs\n"
          ],
          "name": "stdout"
        }
      ]
    },
    {
      "cell_type": "markdown",
      "metadata": {
        "id": "2vKQsRDVXG1S"
      },
      "source": [
        "## Packages imports"
      ]
    },
    {
      "cell_type": "code",
      "metadata": {
        "id": "xCRrTc3jXLzh"
      },
      "source": [
        "# Allow to print multiple output \n",
        "from IPython.core.interactiveshell import InteractiveShell \n",
        "InteractiveShell.ast_node_interactivity = \"all\""
      ],
      "execution_count": null,
      "outputs": []
    },
    {
      "cell_type": "code",
      "metadata": {
        "id": "xHtmsw0hXOlW"
      },
      "source": [
        "import geopandas as gpd\n",
        "import geoplot as gplt\n",
        "#import folium\n",
        "#from scipy import stats\n",
        "\n",
        "from datetime import datetime\n",
        "import pandas as pd\n",
        "import numpy  as np\n",
        "import matplotlib.pyplot as plt\n",
        "import matplotlib\n",
        "import seaborn as sns\n",
        "\n",
        "%matplotlib inline"
      ],
      "execution_count": null,
      "outputs": []
    },
    {
      "cell_type": "markdown",
      "metadata": {
        "id": "UUv8Vws0PIeP"
      },
      "source": [
        "## Useful functions"
      ]
    },
    {
      "cell_type": "code",
      "metadata": {
        "id": "iFsddolUPKTh"
      },
      "source": [
        "def movecol(df, cols_to_move=[], ref_col='', place='After'):\n",
        "    \n",
        "    cols = df.columns.tolist()\n",
        "    if place == 'After':\n",
        "        seg1 = cols[:list(cols).index(ref_col) + 1]\n",
        "        seg2 = cols_to_move\n",
        "    if place == 'Before':\n",
        "        seg1 = cols[:list(cols).index(ref_col)]\n",
        "        seg2 = cols_to_move + [ref_col]\n",
        "    \n",
        "    seg1 = [i for i in seg1 if i not in seg2]\n",
        "    seg3 = [i for i in cols if i not in seg1 + seg2]\n",
        "    \n",
        "    return(df[seg1 + seg2 + seg3])"
      ],
      "execution_count": null,
      "outputs": []
    },
    {
      "cell_type": "markdown",
      "metadata": {
        "id": "39J6XG1YXRF5"
      },
      "source": [
        "## Datasets creation"
      ]
    },
    {
      "cell_type": "code",
      "metadata": {
        "id": "9shpcilpXUNP"
      },
      "source": [
        "df = pd.read_excel('/content/TF_ACCIDENTS_2019.xlsx?raw=true')\n",
        "# map_df = gpd.read_file('/content/BELGIUM-Municipalities.geojson')"
      ],
      "execution_count": null,
      "outputs": []
    },
    {
      "cell_type": "markdown",
      "metadata": {
        "id": "V0B5xdebX2xY"
      },
      "source": [
        "# Dataset general cleaning"
      ]
    },
    {
      "cell_type": "code",
      "metadata": {
        "id": "P_7fxRo9X48O",
        "outputId": "bbb028d0-09fb-46e8-fa1c-3a705b5945f0",
        "colab": {
          "base_uri": "https://localhost:8080/",
          "height": 326
        }
      },
      "source": [
        "df.head()\n",
        "df.shape"
      ],
      "execution_count": null,
      "outputs": [
        {
          "output_type": "execute_result",
          "data": {
            "text/html": [
              "<div>\n",
              "<style scoped>\n",
              "    .dataframe tbody tr th:only-of-type {\n",
              "        vertical-align: middle;\n",
              "    }\n",
              "\n",
              "    .dataframe tbody tr th {\n",
              "        vertical-align: top;\n",
              "    }\n",
              "\n",
              "    .dataframe thead th {\n",
              "        text-align: right;\n",
              "    }\n",
              "</style>\n",
              "<table border=\"1\" class=\"dataframe\">\n",
              "  <thead>\n",
              "    <tr style=\"text-align: right;\">\n",
              "      <th></th>\n",
              "      <th>DT_DAY</th>\n",
              "      <th>DT_HOUR</th>\n",
              "      <th>CD_DAY_OF_WEEK</th>\n",
              "      <th>TX_DAY_OF_WEEK_DESCR_FR</th>\n",
              "      <th>TX_DAY_OF_WEEK_DESCR_NL</th>\n",
              "      <th>CD_BUILD_UP_AREA</th>\n",
              "      <th>TX_BUILD_UP_AREA_DESCR_NL</th>\n",
              "      <th>TX_BUILD_UP_AREA_DESCR_FR</th>\n",
              "      <th>CD_COLL_TYPE</th>\n",
              "      <th>TX_COLL_TYPE_DESCR_NL</th>\n",
              "      <th>TX_COLL_TYPE_DESCR_FR</th>\n",
              "      <th>CD_LIGHT_COND</th>\n",
              "      <th>TX_LIGHT_COND_DESCR_NL</th>\n",
              "      <th>TX_LIGHT_COND_DESCR_FR</th>\n",
              "      <th>CD_ROAD_TYPE</th>\n",
              "      <th>TX_ROAD_TYPE_DESCR_NL</th>\n",
              "      <th>TX_ROAD_TYPE_DESCR_FR</th>\n",
              "      <th>CD_MUNTY_REFNIS</th>\n",
              "      <th>TX_MUNTY_DESCR_NL</th>\n",
              "      <th>TX_MUNTY_DESCR_FR</th>\n",
              "      <th>CD_DSTR_REFNIS</th>\n",
              "      <th>TX_ADM_DSTR_DESCR_NL</th>\n",
              "      <th>TX_ADM_DSTR_DESCR_FR</th>\n",
              "      <th>CD_PROV_REFNIS</th>\n",
              "      <th>TX_PROV_DESCR_NL</th>\n",
              "      <th>TX_PROV_DESCR_FR</th>\n",
              "      <th>CD_RGN_REFNIS</th>\n",
              "      <th>TX_RGN_DESCR_NL</th>\n",
              "      <th>TX_RGN_DESCR_FR</th>\n",
              "      <th>MS_ACCT</th>\n",
              "      <th>MS_ACCT_WITH_DEAD</th>\n",
              "      <th>MS_ACCT_WITH_DEAD_30_DAYS</th>\n",
              "      <th>MS_ACCT_WITH_MORY_INJ</th>\n",
              "      <th>MS_ACCT_WITH_SERLY_INJ</th>\n",
              "      <th>MS_ACCT_WITH_SLY_INJ</th>\n",
              "    </tr>\n",
              "  </thead>\n",
              "  <tbody>\n",
              "    <tr>\n",
              "      <th>0</th>\n",
              "      <td>2019-09-27</td>\n",
              "      <td>18</td>\n",
              "      <td>5</td>\n",
              "      <td>Vendredi</td>\n",
              "      <td>vrijdag</td>\n",
              "      <td>2.0</td>\n",
              "      <td>Buiten bebouwde kom</td>\n",
              "      <td>Hors agglomération</td>\n",
              "      <td>1.0</td>\n",
              "      <td>Kettingbotsing (4 bestuurders of meer)</td>\n",
              "      <td>Collision en chaine (entre 4 conducteurs ou plus)</td>\n",
              "      <td>1.0</td>\n",
              "      <td>Bij klaarlichte dag</td>\n",
              "      <td>Plein jour</td>\n",
              "      <td>1.0</td>\n",
              "      <td>Autosnelweg</td>\n",
              "      <td>Autoroute</td>\n",
              "      <td>11001</td>\n",
              "      <td>Aartselaar</td>\n",
              "      <td>Aartselaar</td>\n",
              "      <td>11000</td>\n",
              "      <td>Arrondissement Antwerpen</td>\n",
              "      <td>Arrondissement d’Anvers</td>\n",
              "      <td>10000.0</td>\n",
              "      <td>Provincie Antwerpen</td>\n",
              "      <td>Province d’Anvers</td>\n",
              "      <td>2000</td>\n",
              "      <td>Vlaams Gewest</td>\n",
              "      <td>Région flamande</td>\n",
              "      <td>1</td>\n",
              "      <td>1</td>\n",
              "      <td>1</td>\n",
              "      <td>0</td>\n",
              "      <td>0</td>\n",
              "      <td>0</td>\n",
              "    </tr>\n",
              "    <tr>\n",
              "      <th>1</th>\n",
              "      <td>2019-11-20</td>\n",
              "      <td>12</td>\n",
              "      <td>3</td>\n",
              "      <td>Mercredi</td>\n",
              "      <td>woensdag</td>\n",
              "      <td>1.0</td>\n",
              "      <td>Binnen bebouwde kom</td>\n",
              "      <td>En agglomération</td>\n",
              "      <td>4.0</td>\n",
              "      <td>Langs opzij</td>\n",
              "      <td>Par le côté</td>\n",
              "      <td>1.0</td>\n",
              "      <td>Bij klaarlichte dag</td>\n",
              "      <td>Plein jour</td>\n",
              "      <td>2.0</td>\n",
              "      <td>Gewestweg, provincieweg of gemeenteweg</td>\n",
              "      <td>Route régionale, provinciale ou communale</td>\n",
              "      <td>11001</td>\n",
              "      <td>Aartselaar</td>\n",
              "      <td>Aartselaar</td>\n",
              "      <td>11000</td>\n",
              "      <td>Arrondissement Antwerpen</td>\n",
              "      <td>Arrondissement d’Anvers</td>\n",
              "      <td>10000.0</td>\n",
              "      <td>Provincie Antwerpen</td>\n",
              "      <td>Province d’Anvers</td>\n",
              "      <td>2000</td>\n",
              "      <td>Vlaams Gewest</td>\n",
              "      <td>Région flamande</td>\n",
              "      <td>1</td>\n",
              "      <td>0</td>\n",
              "      <td>0</td>\n",
              "      <td>0</td>\n",
              "      <td>0</td>\n",
              "      <td>1</td>\n",
              "    </tr>\n",
              "    <tr>\n",
              "      <th>2</th>\n",
              "      <td>2019-07-15</td>\n",
              "      <td>14</td>\n",
              "      <td>1</td>\n",
              "      <td>Lundi</td>\n",
              "      <td>maandag</td>\n",
              "      <td>1.0</td>\n",
              "      <td>Binnen bebouwde kom</td>\n",
              "      <td>En agglomération</td>\n",
              "      <td>NaN</td>\n",
              "      <td>Niet beschikbaar</td>\n",
              "      <td>Non disponible</td>\n",
              "      <td>1.0</td>\n",
              "      <td>Bij klaarlichte dag</td>\n",
              "      <td>Plein jour</td>\n",
              "      <td>2.0</td>\n",
              "      <td>Gewestweg, provincieweg of gemeenteweg</td>\n",
              "      <td>Route régionale, provinciale ou communale</td>\n",
              "      <td>11001</td>\n",
              "      <td>Aartselaar</td>\n",
              "      <td>Aartselaar</td>\n",
              "      <td>11000</td>\n",
              "      <td>Arrondissement Antwerpen</td>\n",
              "      <td>Arrondissement d’Anvers</td>\n",
              "      <td>10000.0</td>\n",
              "      <td>Provincie Antwerpen</td>\n",
              "      <td>Province d’Anvers</td>\n",
              "      <td>2000</td>\n",
              "      <td>Vlaams Gewest</td>\n",
              "      <td>Région flamande</td>\n",
              "      <td>1</td>\n",
              "      <td>0</td>\n",
              "      <td>0</td>\n",
              "      <td>0</td>\n",
              "      <td>0</td>\n",
              "      <td>1</td>\n",
              "    </tr>\n",
              "    <tr>\n",
              "      <th>3</th>\n",
              "      <td>2019-04-20</td>\n",
              "      <td>2</td>\n",
              "      <td>6</td>\n",
              "      <td>Samedi</td>\n",
              "      <td>zaterdag</td>\n",
              "      <td>2.0</td>\n",
              "      <td>Buiten bebouwde kom</td>\n",
              "      <td>Hors agglomération</td>\n",
              "      <td>1.0</td>\n",
              "      <td>Kettingbotsing (4 bestuurders of meer)</td>\n",
              "      <td>Collision en chaine (entre 4 conducteurs ou plus)</td>\n",
              "      <td>3.0</td>\n",
              "      <td>Nacht, ontstoken openbare verlichting</td>\n",
              "      <td>Nuit, éclairage public allumé</td>\n",
              "      <td>1.0</td>\n",
              "      <td>Autosnelweg</td>\n",
              "      <td>Autoroute</td>\n",
              "      <td>11001</td>\n",
              "      <td>Aartselaar</td>\n",
              "      <td>Aartselaar</td>\n",
              "      <td>11000</td>\n",
              "      <td>Arrondissement Antwerpen</td>\n",
              "      <td>Arrondissement d’Anvers</td>\n",
              "      <td>10000.0</td>\n",
              "      <td>Provincie Antwerpen</td>\n",
              "      <td>Province d’Anvers</td>\n",
              "      <td>2000</td>\n",
              "      <td>Vlaams Gewest</td>\n",
              "      <td>Région flamande</td>\n",
              "      <td>1</td>\n",
              "      <td>0</td>\n",
              "      <td>0</td>\n",
              "      <td>0</td>\n",
              "      <td>1</td>\n",
              "      <td>0</td>\n",
              "    </tr>\n",
              "    <tr>\n",
              "      <th>4</th>\n",
              "      <td>2019-10-25</td>\n",
              "      <td>12</td>\n",
              "      <td>5</td>\n",
              "      <td>Vendredi</td>\n",
              "      <td>vrijdag</td>\n",
              "      <td>2.0</td>\n",
              "      <td>Buiten bebouwde kom</td>\n",
              "      <td>Hors agglomération</td>\n",
              "      <td>5.0</td>\n",
              "      <td>Met een voetganger</td>\n",
              "      <td>Avec un piéton</td>\n",
              "      <td>1.0</td>\n",
              "      <td>Bij klaarlichte dag</td>\n",
              "      <td>Plein jour</td>\n",
              "      <td>2.0</td>\n",
              "      <td>Gewestweg, provincieweg of gemeenteweg</td>\n",
              "      <td>Route régionale, provinciale ou communale</td>\n",
              "      <td>11001</td>\n",
              "      <td>Aartselaar</td>\n",
              "      <td>Aartselaar</td>\n",
              "      <td>11000</td>\n",
              "      <td>Arrondissement Antwerpen</td>\n",
              "      <td>Arrondissement d’Anvers</td>\n",
              "      <td>10000.0</td>\n",
              "      <td>Provincie Antwerpen</td>\n",
              "      <td>Province d’Anvers</td>\n",
              "      <td>2000</td>\n",
              "      <td>Vlaams Gewest</td>\n",
              "      <td>Région flamande</td>\n",
              "      <td>1</td>\n",
              "      <td>0</td>\n",
              "      <td>0</td>\n",
              "      <td>0</td>\n",
              "      <td>0</td>\n",
              "      <td>1</td>\n",
              "    </tr>\n",
              "  </tbody>\n",
              "</table>\n",
              "</div>"
            ],
            "text/plain": [
              "      DT_DAY  DT_HOUR  ...  MS_ACCT_WITH_SERLY_INJ MS_ACCT_WITH_SLY_INJ\n",
              "0 2019-09-27       18  ...                       0                    0\n",
              "1 2019-11-20       12  ...                       0                    1\n",
              "2 2019-07-15       14  ...                       0                    1\n",
              "3 2019-04-20        2  ...                       1                    0\n",
              "4 2019-10-25       12  ...                       0                    1\n",
              "\n",
              "[5 rows x 35 columns]"
            ]
          },
          "metadata": {
            "tags": []
          },
          "execution_count": 498
        },
        {
          "output_type": "execute_result",
          "data": {
            "text/plain": [
              "(37498, 35)"
            ]
          },
          "metadata": {
            "tags": []
          },
          "execution_count": 498
        }
      ]
    },
    {
      "cell_type": "markdown",
      "metadata": {
        "id": "Xt69MP3HX9s3"
      },
      "source": [
        "It seems we have some duplicated columns: In french and in deutch. And some useless geolocalisation columns. Remove them:"
      ]
    },
    {
      "cell_type": "code",
      "metadata": {
        "id": "d-42NJ7aYmFy"
      },
      "source": [
        "df.drop(columns=['CD_DAY_OF_WEEK',\n",
        "                 'TX_DAY_OF_WEEK_DESCR_FR',\n",
        "                 'TX_DAY_OF_WEEK_DESCR_NL',\n",
        "                 'CD_BUILD_UP_AREA',\n",
        "                 'CD_COLL_TYPE',\n",
        "                 'TX_BUILD_UP_AREA_DESCR_NL',\n",
        "                 'TX_COLL_TYPE_DESCR_NL',\n",
        "                 'CD_LIGHT_COND',\n",
        "                 'TX_LIGHT_COND_DESCR_NL',\n",
        "                 'CD_ROAD_TYPE',\n",
        "                 'TX_ROAD_TYPE_DESCR_NL',\n",
        "                 'TX_MUNTY_DESCR_NL',\n",
        "                 'CD_DSTR_REFNIS',\n",
        "                 'TX_ADM_DSTR_DESCR_NL',\n",
        "                 'TX_ADM_DSTR_DESCR_FR',\n",
        "                 'TX_PROV_DESCR_NL',\n",
        "                 'TX_RGN_DESCR_NL'], inplace=True)"
      ],
      "execution_count": null,
      "outputs": []
    },
    {
      "cell_type": "code",
      "metadata": {
        "id": "n_AJOpRWbeM3",
        "outputId": "4d454f71-aaa8-4a90-d59c-61ce72de4a53",
        "colab": {
          "base_uri": "https://localhost:8080/",
          "height": 213
        }
      },
      "source": [
        "df.head(3)"
      ],
      "execution_count": null,
      "outputs": [
        {
          "output_type": "execute_result",
          "data": {
            "text/html": [
              "<div>\n",
              "<style scoped>\n",
              "    .dataframe tbody tr th:only-of-type {\n",
              "        vertical-align: middle;\n",
              "    }\n",
              "\n",
              "    .dataframe tbody tr th {\n",
              "        vertical-align: top;\n",
              "    }\n",
              "\n",
              "    .dataframe thead th {\n",
              "        text-align: right;\n",
              "    }\n",
              "</style>\n",
              "<table border=\"1\" class=\"dataframe\">\n",
              "  <thead>\n",
              "    <tr style=\"text-align: right;\">\n",
              "      <th></th>\n",
              "      <th>DT_DAY</th>\n",
              "      <th>DT_HOUR</th>\n",
              "      <th>TX_BUILD_UP_AREA_DESCR_FR</th>\n",
              "      <th>TX_COLL_TYPE_DESCR_FR</th>\n",
              "      <th>TX_LIGHT_COND_DESCR_FR</th>\n",
              "      <th>TX_ROAD_TYPE_DESCR_FR</th>\n",
              "      <th>CD_MUNTY_REFNIS</th>\n",
              "      <th>TX_MUNTY_DESCR_FR</th>\n",
              "      <th>CD_PROV_REFNIS</th>\n",
              "      <th>TX_PROV_DESCR_FR</th>\n",
              "      <th>CD_RGN_REFNIS</th>\n",
              "      <th>TX_RGN_DESCR_FR</th>\n",
              "      <th>MS_ACCT</th>\n",
              "      <th>MS_ACCT_WITH_DEAD</th>\n",
              "      <th>MS_ACCT_WITH_DEAD_30_DAYS</th>\n",
              "      <th>MS_ACCT_WITH_MORY_INJ</th>\n",
              "      <th>MS_ACCT_WITH_SERLY_INJ</th>\n",
              "      <th>MS_ACCT_WITH_SLY_INJ</th>\n",
              "    </tr>\n",
              "  </thead>\n",
              "  <tbody>\n",
              "    <tr>\n",
              "      <th>0</th>\n",
              "      <td>2019-09-27</td>\n",
              "      <td>18</td>\n",
              "      <td>Hors agglomération</td>\n",
              "      <td>Collision en chaine (entre 4 conducteurs ou plus)</td>\n",
              "      <td>Plein jour</td>\n",
              "      <td>Autoroute</td>\n",
              "      <td>11001</td>\n",
              "      <td>Aartselaar</td>\n",
              "      <td>10000.0</td>\n",
              "      <td>Province d’Anvers</td>\n",
              "      <td>2000</td>\n",
              "      <td>Région flamande</td>\n",
              "      <td>1</td>\n",
              "      <td>1</td>\n",
              "      <td>1</td>\n",
              "      <td>0</td>\n",
              "      <td>0</td>\n",
              "      <td>0</td>\n",
              "    </tr>\n",
              "    <tr>\n",
              "      <th>1</th>\n",
              "      <td>2019-11-20</td>\n",
              "      <td>12</td>\n",
              "      <td>En agglomération</td>\n",
              "      <td>Par le côté</td>\n",
              "      <td>Plein jour</td>\n",
              "      <td>Route régionale, provinciale ou communale</td>\n",
              "      <td>11001</td>\n",
              "      <td>Aartselaar</td>\n",
              "      <td>10000.0</td>\n",
              "      <td>Province d’Anvers</td>\n",
              "      <td>2000</td>\n",
              "      <td>Région flamande</td>\n",
              "      <td>1</td>\n",
              "      <td>0</td>\n",
              "      <td>0</td>\n",
              "      <td>0</td>\n",
              "      <td>0</td>\n",
              "      <td>1</td>\n",
              "    </tr>\n",
              "    <tr>\n",
              "      <th>2</th>\n",
              "      <td>2019-07-15</td>\n",
              "      <td>14</td>\n",
              "      <td>En agglomération</td>\n",
              "      <td>Non disponible</td>\n",
              "      <td>Plein jour</td>\n",
              "      <td>Route régionale, provinciale ou communale</td>\n",
              "      <td>11001</td>\n",
              "      <td>Aartselaar</td>\n",
              "      <td>10000.0</td>\n",
              "      <td>Province d’Anvers</td>\n",
              "      <td>2000</td>\n",
              "      <td>Région flamande</td>\n",
              "      <td>1</td>\n",
              "      <td>0</td>\n",
              "      <td>0</td>\n",
              "      <td>0</td>\n",
              "      <td>0</td>\n",
              "      <td>1</td>\n",
              "    </tr>\n",
              "  </tbody>\n",
              "</table>\n",
              "</div>"
            ],
            "text/plain": [
              "      DT_DAY  DT_HOUR  ... MS_ACCT_WITH_SERLY_INJ MS_ACCT_WITH_SLY_INJ\n",
              "0 2019-09-27       18  ...                      0                    0\n",
              "1 2019-11-20       12  ...                      0                    1\n",
              "2 2019-07-15       14  ...                      0                    1\n",
              "\n",
              "[3 rows x 18 columns]"
            ]
          },
          "metadata": {
            "tags": []
          },
          "execution_count": 500
        }
      ]
    },
    {
      "cell_type": "markdown",
      "metadata": {
        "id": "JRG_9eVfb1Yq"
      },
      "source": [
        "## Date creation"
      ]
    },
    {
      "cell_type": "markdown",
      "metadata": {
        "id": "pyOPSlOSizEz"
      },
      "source": [
        "Some hours are set to -1, some others are on 24."
      ]
    },
    {
      "cell_type": "code",
      "metadata": {
        "id": "rrdCCXxTgk2u",
        "outputId": "4b3dd4b0-e4cc-4964-b4a3-189b1a75ac9b",
        "colab": {
          "base_uri": "https://localhost:8080/",
          "height": 51
        }
      },
      "source": [
        "df['DT_HOUR'].unique()"
      ],
      "execution_count": null,
      "outputs": [
        {
          "output_type": "execute_result",
          "data": {
            "text/plain": [
              "array([18, 12, 14,  2, 21, 17, 13,  6, 16,  9, 19, 22, 23,  8, 20, 11, 10,\n",
              "       15,  7, 24,  3,  4,  5,  1, -1])"
            ]
          },
          "metadata": {
            "tags": []
          },
          "execution_count": 501
        }
      ]
    },
    {
      "cell_type": "markdown",
      "metadata": {
        "id": "apQFhyu1gmpJ"
      },
      "source": [
        "Check how many are to -1 and drop them:"
      ]
    },
    {
      "cell_type": "code",
      "metadata": {
        "id": "EEslTIWrikal",
        "outputId": "a8dd21b7-4b45-47af-b046-4c9c561a4887",
        "colab": {
          "base_uri": "https://localhost:8080/",
          "height": 34
        }
      },
      "source": [
        "len(df.loc[df['DT_HOUR'] == -1,:])\n",
        "df = df[df['DT_HOUR'] != -1]"
      ],
      "execution_count": null,
      "outputs": [
        {
          "output_type": "execute_result",
          "data": {
            "text/plain": [
              "1"
            ]
          },
          "metadata": {
            "tags": []
          },
          "execution_count": 502
        }
      ]
    },
    {
      "cell_type": "markdown",
      "metadata": {
        "id": "E4Bsyz4ajBo6"
      },
      "source": [
        "Hours can go from 0 to 23. Change entries with 24 to 23"
      ]
    },
    {
      "cell_type": "code",
      "metadata": {
        "id": "8ClniXwni5ma"
      },
      "source": [
        "df.loc[df['DT_HOUR'] == 24, 'DT_HOUR'] = 23"
      ],
      "execution_count": null,
      "outputs": []
    },
    {
      "cell_type": "markdown",
      "metadata": {
        "id": "_Bi09iDMsHXm"
      },
      "source": [
        "Create the datetime field with date and hours:"
      ]
    },
    {
      "cell_type": "code",
      "metadata": {
        "id": "0RuolGW8cxTE"
      },
      "source": [
        "# Create the 'date' field\n",
        "df_date = df[['DT_DAY', 'DT_HOUR']].astype(str)\n",
        "df['datetime'] = pd.to_datetime(df_date.agg('-'.join, axis=1), format='%Y-%m-%d-%H')\n",
        "\n",
        "# Create the week_day fiel\n",
        "df['week_day'] = df['datetime'].dt.day_name()\n",
        "\n",
        "# Drop the DT_DAY & DT_HOUR:\n",
        "df.drop(columns=['DT_DAY', 'DT_HOUR'], inplace=True)"
      ],
      "execution_count": null,
      "outputs": []
    },
    {
      "cell_type": "markdown",
      "metadata": {
        "id": "_3LSYjKCBLNT"
      },
      "source": [
        "Create the date field"
      ]
    },
    {
      "cell_type": "code",
      "metadata": {
        "id": "1PmfcyJp7W__",
        "outputId": "e8e3eb61-4cd3-484a-df2f-443d89f16a6d",
        "colab": {
          "base_uri": "https://localhost:8080/",
          "height": 295
        }
      },
      "source": [
        "#df['date'] = df['datetime'].apply(lambda x: datetime(year=x.year, month=x.month, day=x.day))\t\n",
        "df.set_index(df[\"datetime\"], inplace=True)\n",
        "\n",
        "# Set as index\n",
        "df.head(3)"
      ],
      "execution_count": null,
      "outputs": [
        {
          "output_type": "execute_result",
          "data": {
            "text/html": [
              "<div>\n",
              "<style scoped>\n",
              "    .dataframe tbody tr th:only-of-type {\n",
              "        vertical-align: middle;\n",
              "    }\n",
              "\n",
              "    .dataframe tbody tr th {\n",
              "        vertical-align: top;\n",
              "    }\n",
              "\n",
              "    .dataframe thead th {\n",
              "        text-align: right;\n",
              "    }\n",
              "</style>\n",
              "<table border=\"1\" class=\"dataframe\">\n",
              "  <thead>\n",
              "    <tr style=\"text-align: right;\">\n",
              "      <th></th>\n",
              "      <th>TX_BUILD_UP_AREA_DESCR_FR</th>\n",
              "      <th>TX_COLL_TYPE_DESCR_FR</th>\n",
              "      <th>TX_LIGHT_COND_DESCR_FR</th>\n",
              "      <th>TX_ROAD_TYPE_DESCR_FR</th>\n",
              "      <th>CD_MUNTY_REFNIS</th>\n",
              "      <th>TX_MUNTY_DESCR_FR</th>\n",
              "      <th>CD_PROV_REFNIS</th>\n",
              "      <th>TX_PROV_DESCR_FR</th>\n",
              "      <th>CD_RGN_REFNIS</th>\n",
              "      <th>TX_RGN_DESCR_FR</th>\n",
              "      <th>MS_ACCT</th>\n",
              "      <th>MS_ACCT_WITH_DEAD</th>\n",
              "      <th>MS_ACCT_WITH_DEAD_30_DAYS</th>\n",
              "      <th>MS_ACCT_WITH_MORY_INJ</th>\n",
              "      <th>MS_ACCT_WITH_SERLY_INJ</th>\n",
              "      <th>MS_ACCT_WITH_SLY_INJ</th>\n",
              "      <th>datetime</th>\n",
              "      <th>week_day</th>\n",
              "    </tr>\n",
              "    <tr>\n",
              "      <th>datetime</th>\n",
              "      <th></th>\n",
              "      <th></th>\n",
              "      <th></th>\n",
              "      <th></th>\n",
              "      <th></th>\n",
              "      <th></th>\n",
              "      <th></th>\n",
              "      <th></th>\n",
              "      <th></th>\n",
              "      <th></th>\n",
              "      <th></th>\n",
              "      <th></th>\n",
              "      <th></th>\n",
              "      <th></th>\n",
              "      <th></th>\n",
              "      <th></th>\n",
              "      <th></th>\n",
              "      <th></th>\n",
              "    </tr>\n",
              "  </thead>\n",
              "  <tbody>\n",
              "    <tr>\n",
              "      <th>2019-09-27 18:00:00</th>\n",
              "      <td>Hors agglomération</td>\n",
              "      <td>Collision en chaine (entre 4 conducteurs ou plus)</td>\n",
              "      <td>Plein jour</td>\n",
              "      <td>Autoroute</td>\n",
              "      <td>11001</td>\n",
              "      <td>Aartselaar</td>\n",
              "      <td>10000.0</td>\n",
              "      <td>Province d’Anvers</td>\n",
              "      <td>2000</td>\n",
              "      <td>Région flamande</td>\n",
              "      <td>1</td>\n",
              "      <td>1</td>\n",
              "      <td>1</td>\n",
              "      <td>0</td>\n",
              "      <td>0</td>\n",
              "      <td>0</td>\n",
              "      <td>2019-09-27 18:00:00</td>\n",
              "      <td>Friday</td>\n",
              "    </tr>\n",
              "    <tr>\n",
              "      <th>2019-11-20 12:00:00</th>\n",
              "      <td>En agglomération</td>\n",
              "      <td>Par le côté</td>\n",
              "      <td>Plein jour</td>\n",
              "      <td>Route régionale, provinciale ou communale</td>\n",
              "      <td>11001</td>\n",
              "      <td>Aartselaar</td>\n",
              "      <td>10000.0</td>\n",
              "      <td>Province d’Anvers</td>\n",
              "      <td>2000</td>\n",
              "      <td>Région flamande</td>\n",
              "      <td>1</td>\n",
              "      <td>0</td>\n",
              "      <td>0</td>\n",
              "      <td>0</td>\n",
              "      <td>0</td>\n",
              "      <td>1</td>\n",
              "      <td>2019-11-20 12:00:00</td>\n",
              "      <td>Wednesday</td>\n",
              "    </tr>\n",
              "    <tr>\n",
              "      <th>2019-07-15 14:00:00</th>\n",
              "      <td>En agglomération</td>\n",
              "      <td>Non disponible</td>\n",
              "      <td>Plein jour</td>\n",
              "      <td>Route régionale, provinciale ou communale</td>\n",
              "      <td>11001</td>\n",
              "      <td>Aartselaar</td>\n",
              "      <td>10000.0</td>\n",
              "      <td>Province d’Anvers</td>\n",
              "      <td>2000</td>\n",
              "      <td>Région flamande</td>\n",
              "      <td>1</td>\n",
              "      <td>0</td>\n",
              "      <td>0</td>\n",
              "      <td>0</td>\n",
              "      <td>0</td>\n",
              "      <td>1</td>\n",
              "      <td>2019-07-15 14:00:00</td>\n",
              "      <td>Monday</td>\n",
              "    </tr>\n",
              "  </tbody>\n",
              "</table>\n",
              "</div>"
            ],
            "text/plain": [
              "                    TX_BUILD_UP_AREA_DESCR_FR  ...   week_day\n",
              "datetime                                       ...           \n",
              "2019-09-27 18:00:00        Hors agglomération  ...     Friday\n",
              "2019-11-20 12:00:00          En agglomération  ...  Wednesday\n",
              "2019-07-15 14:00:00          En agglomération  ...     Monday\n",
              "\n",
              "[3 rows x 18 columns]"
            ]
          },
          "metadata": {
            "tags": []
          },
          "execution_count": 505
        }
      ]
    },
    {
      "cell_type": "markdown",
      "metadata": {
        "id": "lJ-hsICJwRJT"
      },
      "source": [
        "## Renaming the columns"
      ]
    },
    {
      "cell_type": "code",
      "metadata": {
        "id": "0JHbE4bdwVm5"
      },
      "source": [
        "df.rename(columns = {'TX_DAY_OF_WEEK_DESCR_FR':'week_day',\n",
        "                     'TX_BUILD_UP_AREA_DESCR_FR':'incident_place',\n",
        "                     'TX_COLL_TYPE_DESCR_FR':'collision_type',\n",
        "                     'TX_LIGHT_COND_DESCR_FR': 'light_condition',\n",
        "                     'TX_ROAD_TYPE_DESCR_FR': 'road_type',\n",
        "                     'CD_MUNTY_REFNIS': 'municipality_ins',\n",
        "                     'TX_MUNTY_DESCR_FR': 'municipality_name',\n",
        "                     'CD_PROV_REFNIS': 'province_ins',\n",
        "                     'TX_PROV_DESCR_FR': 'province_name',\n",
        "                     'CD_RGN_REFNIS': 'region_ins',\n",
        "                     'TX_RGN_DESCR_FR': 'region_name',\n",
        "                     'MS_ACCT': 'dead_injured',\n",
        "                     'MS_ACCT_WITH_DEAD': 'dead_directly',\n",
        "                     'MS_ACCT_WITH_DEAD_30_DAYS': 'dead_total_30_days',\n",
        "                     'MS_ACCT_WITH_MORY_INJ': 'injured_mortally',\n",
        "                     'MS_ACCT_WITH_SERLY_INJ': 'injured_severely',\n",
        "                     'MS_ACCT_WITH_SLY_INJ': 'injured_sightly'}, inplace = True) "
      ],
      "execution_count": null,
      "outputs": []
    },
    {
      "cell_type": "code",
      "metadata": {
        "id": "6IEcvjawSbCK",
        "outputId": "efbaddc9-8033-4129-ee7d-48bb1d37c7d0",
        "colab": {
          "base_uri": "https://localhost:8080/",
          "height": 380
        }
      },
      "source": [
        "df.head(3)"
      ],
      "execution_count": null,
      "outputs": [
        {
          "output_type": "execute_result",
          "data": {
            "text/html": [
              "<div>\n",
              "<style scoped>\n",
              "    .dataframe tbody tr th:only-of-type {\n",
              "        vertical-align: middle;\n",
              "    }\n",
              "\n",
              "    .dataframe tbody tr th {\n",
              "        vertical-align: top;\n",
              "    }\n",
              "\n",
              "    .dataframe thead th {\n",
              "        text-align: right;\n",
              "    }\n",
              "</style>\n",
              "<table border=\"1\" class=\"dataframe\">\n",
              "  <thead>\n",
              "    <tr style=\"text-align: right;\">\n",
              "      <th></th>\n",
              "      <th>incident_place</th>\n",
              "      <th>collision_type</th>\n",
              "      <th>light_condition</th>\n",
              "      <th>road_type</th>\n",
              "      <th>municipality_ins</th>\n",
              "      <th>municipality_name</th>\n",
              "      <th>province_ins</th>\n",
              "      <th>province_name</th>\n",
              "      <th>region_ins</th>\n",
              "      <th>region_name</th>\n",
              "      <th>dead_injured</th>\n",
              "      <th>dead_directly</th>\n",
              "      <th>dead_total_30_days</th>\n",
              "      <th>injured_mortally</th>\n",
              "      <th>injured_severely</th>\n",
              "      <th>injured_sightly</th>\n",
              "      <th>datetime</th>\n",
              "      <th>week_day</th>\n",
              "    </tr>\n",
              "    <tr>\n",
              "      <th>datetime</th>\n",
              "      <th></th>\n",
              "      <th></th>\n",
              "      <th></th>\n",
              "      <th></th>\n",
              "      <th></th>\n",
              "      <th></th>\n",
              "      <th></th>\n",
              "      <th></th>\n",
              "      <th></th>\n",
              "      <th></th>\n",
              "      <th></th>\n",
              "      <th></th>\n",
              "      <th></th>\n",
              "      <th></th>\n",
              "      <th></th>\n",
              "      <th></th>\n",
              "      <th></th>\n",
              "      <th></th>\n",
              "    </tr>\n",
              "  </thead>\n",
              "  <tbody>\n",
              "    <tr>\n",
              "      <th>2019-09-27 18:00:00</th>\n",
              "      <td>Hors agglomération</td>\n",
              "      <td>Collision en chaine (entre 4 conducteurs ou plus)</td>\n",
              "      <td>Plein jour</td>\n",
              "      <td>Autoroute</td>\n",
              "      <td>11001</td>\n",
              "      <td>Aartselaar</td>\n",
              "      <td>10000.0</td>\n",
              "      <td>Province d’Anvers</td>\n",
              "      <td>2000</td>\n",
              "      <td>Région flamande</td>\n",
              "      <td>1</td>\n",
              "      <td>1</td>\n",
              "      <td>1</td>\n",
              "      <td>0</td>\n",
              "      <td>0</td>\n",
              "      <td>0</td>\n",
              "      <td>2019-09-27 18:00:00</td>\n",
              "      <td>Friday</td>\n",
              "    </tr>\n",
              "    <tr>\n",
              "      <th>2019-11-20 12:00:00</th>\n",
              "      <td>En agglomération</td>\n",
              "      <td>Par le côté</td>\n",
              "      <td>Plein jour</td>\n",
              "      <td>Route régionale, provinciale ou communale</td>\n",
              "      <td>11001</td>\n",
              "      <td>Aartselaar</td>\n",
              "      <td>10000.0</td>\n",
              "      <td>Province d’Anvers</td>\n",
              "      <td>2000</td>\n",
              "      <td>Région flamande</td>\n",
              "      <td>1</td>\n",
              "      <td>0</td>\n",
              "      <td>0</td>\n",
              "      <td>0</td>\n",
              "      <td>0</td>\n",
              "      <td>1</td>\n",
              "      <td>2019-11-20 12:00:00</td>\n",
              "      <td>Wednesday</td>\n",
              "    </tr>\n",
              "    <tr>\n",
              "      <th>2019-07-15 14:00:00</th>\n",
              "      <td>En agglomération</td>\n",
              "      <td>Non disponible</td>\n",
              "      <td>Plein jour</td>\n",
              "      <td>Route régionale, provinciale ou communale</td>\n",
              "      <td>11001</td>\n",
              "      <td>Aartselaar</td>\n",
              "      <td>10000.0</td>\n",
              "      <td>Province d’Anvers</td>\n",
              "      <td>2000</td>\n",
              "      <td>Région flamande</td>\n",
              "      <td>1</td>\n",
              "      <td>0</td>\n",
              "      <td>0</td>\n",
              "      <td>0</td>\n",
              "      <td>0</td>\n",
              "      <td>1</td>\n",
              "      <td>2019-07-15 14:00:00</td>\n",
              "      <td>Monday</td>\n",
              "    </tr>\n",
              "  </tbody>\n",
              "</table>\n",
              "</div>"
            ],
            "text/plain": [
              "                         incident_place  ...   week_day\n",
              "datetime                                 ...           \n",
              "2019-09-27 18:00:00  Hors agglomération  ...     Friday\n",
              "2019-11-20 12:00:00    En agglomération  ...  Wednesday\n",
              "2019-07-15 14:00:00    En agglomération  ...     Monday\n",
              "\n",
              "[3 rows x 18 columns]"
            ]
          },
          "metadata": {
            "tags": []
          },
          "execution_count": 507
        }
      ]
    },
    {
      "cell_type": "markdown",
      "metadata": {
        "id": "0d7EwtapPY5s"
      },
      "source": [
        "Reordering the columns"
      ]
    },
    {
      "cell_type": "code",
      "metadata": {
        "id": "an3Vb3wqPdc8"
      },
      "source": [
        "# Put the date as first column\n",
        "df = movecol(df, cols_to_move=['week_day'], ref_col='incident_place', place='Before')\n",
        "\n",
        "df = movecol(df, cols_to_move=['light_condition',\n",
        "                               'road_type',\n",
        "                               'incident_place',\n",
        "                               'collision_type',\n",
        "                               'dead_injured',\n",
        "                               'dead_total_30_days',\n",
        "                               'dead_directly',\n",
        "                               'injured_mortally',\n",
        "                               'injured_severely',\n",
        "                               'injured_sightly'], ref_col='week_day', place='After')"
      ],
      "execution_count": null,
      "outputs": []
    },
    {
      "cell_type": "code",
      "metadata": {
        "id": "7x3XPeVzPOBX",
        "outputId": "3ea33168-b3ff-469e-d522-9accaf5b8428",
        "colab": {
          "base_uri": "https://localhost:8080/",
          "height": 561
        }
      },
      "source": [
        "df.head()"
      ],
      "execution_count": null,
      "outputs": [
        {
          "output_type": "execute_result",
          "data": {
            "text/html": [
              "<div>\n",
              "<style scoped>\n",
              "    .dataframe tbody tr th:only-of-type {\n",
              "        vertical-align: middle;\n",
              "    }\n",
              "\n",
              "    .dataframe tbody tr th {\n",
              "        vertical-align: top;\n",
              "    }\n",
              "\n",
              "    .dataframe thead th {\n",
              "        text-align: right;\n",
              "    }\n",
              "</style>\n",
              "<table border=\"1\" class=\"dataframe\">\n",
              "  <thead>\n",
              "    <tr style=\"text-align: right;\">\n",
              "      <th></th>\n",
              "      <th>week_day</th>\n",
              "      <th>light_condition</th>\n",
              "      <th>road_type</th>\n",
              "      <th>incident_place</th>\n",
              "      <th>collision_type</th>\n",
              "      <th>dead_injured</th>\n",
              "      <th>dead_total_30_days</th>\n",
              "      <th>dead_directly</th>\n",
              "      <th>injured_mortally</th>\n",
              "      <th>injured_severely</th>\n",
              "      <th>injured_sightly</th>\n",
              "      <th>municipality_ins</th>\n",
              "      <th>municipality_name</th>\n",
              "      <th>province_ins</th>\n",
              "      <th>province_name</th>\n",
              "      <th>region_ins</th>\n",
              "      <th>region_name</th>\n",
              "      <th>datetime</th>\n",
              "    </tr>\n",
              "    <tr>\n",
              "      <th>datetime</th>\n",
              "      <th></th>\n",
              "      <th></th>\n",
              "      <th></th>\n",
              "      <th></th>\n",
              "      <th></th>\n",
              "      <th></th>\n",
              "      <th></th>\n",
              "      <th></th>\n",
              "      <th></th>\n",
              "      <th></th>\n",
              "      <th></th>\n",
              "      <th></th>\n",
              "      <th></th>\n",
              "      <th></th>\n",
              "      <th></th>\n",
              "      <th></th>\n",
              "      <th></th>\n",
              "      <th></th>\n",
              "    </tr>\n",
              "  </thead>\n",
              "  <tbody>\n",
              "    <tr>\n",
              "      <th>2019-09-27 18:00:00</th>\n",
              "      <td>Friday</td>\n",
              "      <td>Plein jour</td>\n",
              "      <td>Autoroute</td>\n",
              "      <td>Hors agglomération</td>\n",
              "      <td>Collision en chaine (entre 4 conducteurs ou plus)</td>\n",
              "      <td>1</td>\n",
              "      <td>1</td>\n",
              "      <td>1</td>\n",
              "      <td>0</td>\n",
              "      <td>0</td>\n",
              "      <td>0</td>\n",
              "      <td>11001</td>\n",
              "      <td>Aartselaar</td>\n",
              "      <td>10000.0</td>\n",
              "      <td>Province d’Anvers</td>\n",
              "      <td>2000</td>\n",
              "      <td>Région flamande</td>\n",
              "      <td>2019-09-27 18:00:00</td>\n",
              "    </tr>\n",
              "    <tr>\n",
              "      <th>2019-11-20 12:00:00</th>\n",
              "      <td>Wednesday</td>\n",
              "      <td>Plein jour</td>\n",
              "      <td>Route régionale, provinciale ou communale</td>\n",
              "      <td>En agglomération</td>\n",
              "      <td>Par le côté</td>\n",
              "      <td>1</td>\n",
              "      <td>0</td>\n",
              "      <td>0</td>\n",
              "      <td>0</td>\n",
              "      <td>0</td>\n",
              "      <td>1</td>\n",
              "      <td>11001</td>\n",
              "      <td>Aartselaar</td>\n",
              "      <td>10000.0</td>\n",
              "      <td>Province d’Anvers</td>\n",
              "      <td>2000</td>\n",
              "      <td>Région flamande</td>\n",
              "      <td>2019-11-20 12:00:00</td>\n",
              "    </tr>\n",
              "    <tr>\n",
              "      <th>2019-07-15 14:00:00</th>\n",
              "      <td>Monday</td>\n",
              "      <td>Plein jour</td>\n",
              "      <td>Route régionale, provinciale ou communale</td>\n",
              "      <td>En agglomération</td>\n",
              "      <td>Non disponible</td>\n",
              "      <td>1</td>\n",
              "      <td>0</td>\n",
              "      <td>0</td>\n",
              "      <td>0</td>\n",
              "      <td>0</td>\n",
              "      <td>1</td>\n",
              "      <td>11001</td>\n",
              "      <td>Aartselaar</td>\n",
              "      <td>10000.0</td>\n",
              "      <td>Province d’Anvers</td>\n",
              "      <td>2000</td>\n",
              "      <td>Région flamande</td>\n",
              "      <td>2019-07-15 14:00:00</td>\n",
              "    </tr>\n",
              "    <tr>\n",
              "      <th>2019-04-20 02:00:00</th>\n",
              "      <td>Saturday</td>\n",
              "      <td>Nuit, éclairage public allumé</td>\n",
              "      <td>Autoroute</td>\n",
              "      <td>Hors agglomération</td>\n",
              "      <td>Collision en chaine (entre 4 conducteurs ou plus)</td>\n",
              "      <td>1</td>\n",
              "      <td>0</td>\n",
              "      <td>0</td>\n",
              "      <td>0</td>\n",
              "      <td>1</td>\n",
              "      <td>0</td>\n",
              "      <td>11001</td>\n",
              "      <td>Aartselaar</td>\n",
              "      <td>10000.0</td>\n",
              "      <td>Province d’Anvers</td>\n",
              "      <td>2000</td>\n",
              "      <td>Région flamande</td>\n",
              "      <td>2019-04-20 02:00:00</td>\n",
              "    </tr>\n",
              "    <tr>\n",
              "      <th>2019-10-25 12:00:00</th>\n",
              "      <td>Friday</td>\n",
              "      <td>Plein jour</td>\n",
              "      <td>Route régionale, provinciale ou communale</td>\n",
              "      <td>Hors agglomération</td>\n",
              "      <td>Avec un piéton</td>\n",
              "      <td>1</td>\n",
              "      <td>0</td>\n",
              "      <td>0</td>\n",
              "      <td>0</td>\n",
              "      <td>0</td>\n",
              "      <td>1</td>\n",
              "      <td>11001</td>\n",
              "      <td>Aartselaar</td>\n",
              "      <td>10000.0</td>\n",
              "      <td>Province d’Anvers</td>\n",
              "      <td>2000</td>\n",
              "      <td>Région flamande</td>\n",
              "      <td>2019-10-25 12:00:00</td>\n",
              "    </tr>\n",
              "  </tbody>\n",
              "</table>\n",
              "</div>"
            ],
            "text/plain": [
              "                      week_day  ...            datetime\n",
              "datetime                        ...                    \n",
              "2019-09-27 18:00:00     Friday  ... 2019-09-27 18:00:00\n",
              "2019-11-20 12:00:00  Wednesday  ... 2019-11-20 12:00:00\n",
              "2019-07-15 14:00:00     Monday  ... 2019-07-15 14:00:00\n",
              "2019-04-20 02:00:00   Saturday  ... 2019-04-20 02:00:00\n",
              "2019-10-25 12:00:00     Friday  ... 2019-10-25 12:00:00\n",
              "\n",
              "[5 rows x 18 columns]"
            ]
          },
          "metadata": {
            "tags": []
          },
          "execution_count": 509
        }
      ]
    },
    {
      "cell_type": "markdown",
      "metadata": {
        "id": "wQ4ek7K_pP_Z"
      },
      "source": [
        "# Cases analysis"
      ]
    },
    {
      "cell_type": "markdown",
      "metadata": {
        "id": "X6EqNtqodKkC"
      },
      "source": [
        "This analysis is made before further cleaning. To avoid counting te number of cases after removing the outliers."
      ]
    },
    {
      "cell_type": "markdown",
      "metadata": {
        "id": "OAXyuiE7m8gy"
      },
      "source": [
        "## Dead-Injured"
      ]
    },
    {
      "cell_type": "markdown",
      "metadata": {
        "id": "1ZAk8waNnVd_"
      },
      "source": [
        "Dead-injured is the amount of people dead of injured in an incident."
      ]
    },
    {
      "cell_type": "code",
      "metadata": {
        "id": "GeVOXqePnJjn",
        "outputId": "a5a269dd-a12c-4f67-adc0-72535a852f5c",
        "colab": {
          "base_uri": "https://localhost:8080/",
          "height": 340
        }
      },
      "source": [
        "df.count()"
      ],
      "execution_count": null,
      "outputs": [
        {
          "output_type": "execute_result",
          "data": {
            "text/plain": [
              "week_day              37497\n",
              "light_condition       37497\n",
              "road_type             37497\n",
              "incident_place        37497\n",
              "collision_type        37497\n",
              "dead_injured          37497\n",
              "dead_total_30_days    37497\n",
              "dead_directly         37497\n",
              "injured_mortally      37497\n",
              "injured_severely      37497\n",
              "injured_sightly       37497\n",
              "municipality_ins      37497\n",
              "municipality_name     37497\n",
              "province_ins          33601\n",
              "province_name         33601\n",
              "region_ins            37497\n",
              "region_name           37497\n",
              "datetime              37497\n",
              "dtype: int64"
            ]
          },
          "metadata": {
            "tags": []
          },
          "execution_count": 510
        }
      ]
    },
    {
      "cell_type": "code",
      "metadata": {
        "id": "RTTI7vGHnkqs",
        "outputId": "4425bad6-88ba-4fd1-9fe0-0b6472c0d9a1",
        "colab": {
          "base_uri": "https://localhost:8080/",
          "height": 34
        }
      },
      "source": [
        "df['dead_injured'].dtype"
      ],
      "execution_count": null,
      "outputs": [
        {
          "output_type": "execute_result",
          "data": {
            "text/plain": [
              "dtype('int64')"
            ]
          },
          "metadata": {
            "tags": []
          },
          "execution_count": 511
        }
      ]
    },
    {
      "cell_type": "code",
      "metadata": {
        "id": "hNwA_gC9m-u4",
        "outputId": "85e7806b-ca08-425f-ad3d-643ffd3df215",
        "colab": {
          "base_uri": "https://localhost:8080/",
          "height": 85
        }
      },
      "source": [
        "df['dead_injured'].value_counts()"
      ],
      "execution_count": null,
      "outputs": [
        {
          "output_type": "execute_result",
          "data": {
            "text/plain": [
              "1    37301\n",
              "2      191\n",
              "3        5\n",
              "Name: dead_injured, dtype: int64"
            ]
          },
          "metadata": {
            "tags": []
          },
          "execution_count": 512
        }
      ]
    },
    {
      "cell_type": "code",
      "metadata": {
        "id": "86cZV6Czwqpa",
        "outputId": "8a08770e-d867-40ef-8786-9dcba29dcbe4",
        "colab": {
          "base_uri": "https://localhost:8080/",
          "height": 34
        }
      },
      "source": [
        "df['dead_injured'].sum()"
      ],
      "execution_count": null,
      "outputs": [
        {
          "output_type": "execute_result",
          "data": {
            "text/plain": [
              "37698"
            ]
          },
          "metadata": {
            "tags": []
          },
          "execution_count": 513
        }
      ]
    },
    {
      "cell_type": "markdown",
      "metadata": {
        "id": "CsFghLlsgIbD"
      },
      "source": [
        "**Observation**: 37698 persons were injured in 2019 due to a road accident."
      ]
    },
    {
      "cell_type": "markdown",
      "metadata": {
        "id": "8t3rEN_in2ie"
      },
      "source": [
        "## Dead total 30 days"
      ]
    },
    {
      "cell_type": "markdown",
      "metadata": {
        "id": "boNjMp8uo9lj"
      },
      "source": [
        "Total number of person dead during the accident and within the 30 days after."
      ]
    },
    {
      "cell_type": "code",
      "metadata": {
        "id": "BypJ96Lvn4yz",
        "outputId": "e02e63dd-3b87-4b82-f31a-ac5fb83c6512",
        "colab": {
          "base_uri": "https://localhost:8080/",
          "height": 34
        }
      },
      "source": [
        "df['dead_total_30_days'].dtype"
      ],
      "execution_count": null,
      "outputs": [
        {
          "output_type": "execute_result",
          "data": {
            "text/plain": [
              "dtype('int64')"
            ]
          },
          "metadata": {
            "tags": []
          },
          "execution_count": 514
        }
      ]
    },
    {
      "cell_type": "code",
      "metadata": {
        "id": "RR6LRZU_n76l",
        "outputId": "7d3650ba-5b02-4353-b285-08f8356ac6d9",
        "colab": {
          "base_uri": "https://localhost:8080/",
          "height": 68
        }
      },
      "source": [
        "df['dead_total_30_days'].value_counts()"
      ],
      "execution_count": null,
      "outputs": [
        {
          "output_type": "execute_result",
          "data": {
            "text/plain": [
              "0    36889\n",
              "1      608\n",
              "Name: dead_total_30_days, dtype: int64"
            ]
          },
          "metadata": {
            "tags": []
          },
          "execution_count": 515
        }
      ]
    },
    {
      "cell_type": "code",
      "metadata": {
        "id": "KgOc9LMVw9KO",
        "outputId": "29cdcb23-95ec-4163-ab0b-7170dd385bdb",
        "colab": {
          "base_uri": "https://localhost:8080/",
          "height": 34
        }
      },
      "source": [
        "df['dead_total_30_days'].sum()"
      ],
      "execution_count": null,
      "outputs": [
        {
          "output_type": "execute_result",
          "data": {
            "text/plain": [
              "608"
            ]
          },
          "metadata": {
            "tags": []
          },
          "execution_count": 516
        }
      ]
    },
    {
      "cell_type": "markdown",
      "metadata": {
        "id": "TodhUSCMdd4z"
      },
      "source": [
        "**Observation**: 608 persons died in 2019 due to road accident."
      ]
    },
    {
      "cell_type": "markdown",
      "metadata": {
        "id": "2tzSJUbEnd87"
      },
      "source": [
        "## Dead directly"
      ]
    },
    {
      "cell_type": "markdown",
      "metadata": {
        "id": "mKsFFVY6o4Xt"
      },
      "source": [
        "Number of persons dead immidiately during the accident."
      ]
    },
    {
      "cell_type": "code",
      "metadata": {
        "id": "tJ64qbqCnqwj",
        "outputId": "bf7d476c-6140-4ce5-ea75-7a15412942de",
        "colab": {
          "base_uri": "https://localhost:8080/",
          "height": 34
        }
      },
      "source": [
        "df['dead_directly'].dtype"
      ],
      "execution_count": null,
      "outputs": [
        {
          "output_type": "execute_result",
          "data": {
            "text/plain": [
              "dtype('int64')"
            ]
          },
          "metadata": {
            "tags": []
          },
          "execution_count": 517
        }
      ]
    },
    {
      "cell_type": "code",
      "metadata": {
        "id": "zaAoTwK5nfGj",
        "outputId": "35bc55e3-349d-41c9-dcca-6eddf48bea23",
        "colab": {
          "base_uri": "https://localhost:8080/",
          "height": 68
        }
      },
      "source": [
        "df['dead_directly'].value_counts()"
      ],
      "execution_count": null,
      "outputs": [
        {
          "output_type": "execute_result",
          "data": {
            "text/plain": [
              "0    37038\n",
              "1      459\n",
              "Name: dead_directly, dtype: int64"
            ]
          },
          "metadata": {
            "tags": []
          },
          "execution_count": 518
        }
      ]
    },
    {
      "cell_type": "code",
      "metadata": {
        "id": "4hPjpciHxAwP",
        "outputId": "30a862d0-364b-4126-dd4b-c4625a39eba1",
        "colab": {
          "base_uri": "https://localhost:8080/",
          "height": 34
        }
      },
      "source": [
        "df['dead_directly'].sum()"
      ],
      "execution_count": null,
      "outputs": [
        {
          "output_type": "execute_result",
          "data": {
            "text/plain": [
              "459"
            ]
          },
          "metadata": {
            "tags": []
          },
          "execution_count": 519
        }
      ]
    },
    {
      "cell_type": "markdown",
      "metadata": {
        "id": "nye9rI2megeS"
      },
      "source": [
        "**Observation**: Within theses 608 persons, 459 died immediately during the accident."
      ]
    },
    {
      "cell_type": "markdown",
      "metadata": {
        "id": "eW9PC-x_tUng"
      },
      "source": [
        "## Injured mortally"
      ]
    },
    {
      "cell_type": "code",
      "metadata": {
        "id": "hbp_rHQ5tXGI",
        "outputId": "22399bed-db57-4f18-db63-0876cdc60349",
        "colab": {
          "base_uri": "https://localhost:8080/",
          "height": 34
        }
      },
      "source": [
        "df['injured_mortally'].dtype"
      ],
      "execution_count": null,
      "outputs": [
        {
          "output_type": "execute_result",
          "data": {
            "text/plain": [
              "dtype('int64')"
            ]
          },
          "metadata": {
            "tags": []
          },
          "execution_count": 520
        }
      ]
    },
    {
      "cell_type": "code",
      "metadata": {
        "id": "ypSOET4ltb5F",
        "outputId": "d1f07405-f87f-46b8-a6b9-d5901267ced6",
        "colab": {
          "base_uri": "https://localhost:8080/",
          "height": 68
        }
      },
      "source": [
        "df['injured_mortally'].value_counts()"
      ],
      "execution_count": null,
      "outputs": [
        {
          "output_type": "execute_result",
          "data": {
            "text/plain": [
              "0    37348\n",
              "1      149\n",
              "Name: injured_mortally, dtype: int64"
            ]
          },
          "metadata": {
            "tags": []
          },
          "execution_count": 521
        }
      ]
    },
    {
      "cell_type": "code",
      "metadata": {
        "id": "c1_Tofs8hts-",
        "outputId": "880b09ee-058d-48a2-a448-c67df071a356",
        "colab": {
          "base_uri": "https://localhost:8080/",
          "height": 34
        }
      },
      "source": [
        "df['injured_mortally'].sum()"
      ],
      "execution_count": null,
      "outputs": [
        {
          "output_type": "execute_result",
          "data": {
            "text/plain": [
              "149"
            ]
          },
          "metadata": {
            "tags": []
          },
          "execution_count": 522
        }
      ]
    },
    {
      "cell_type": "markdown",
      "metadata": {
        "id": "HupMZr58hwdx"
      },
      "source": [
        "**Observation**: 146 persons were mortally injured in 2019 due to a road accident.\n",
        "\n",
        "Mortally injured: They should have died, but hopefully survived."
      ]
    },
    {
      "cell_type": "markdown",
      "metadata": {
        "id": "HlUXX8eivKx2"
      },
      "source": [
        "## Injured severely"
      ]
    },
    {
      "cell_type": "code",
      "metadata": {
        "id": "NL5U8IT3vPOK",
        "outputId": "c26eeb1b-4437-43f3-da52-513143275723",
        "colab": {
          "base_uri": "https://localhost:8080/",
          "height": 34
        }
      },
      "source": [
        "df['injured_severely'].dtype"
      ],
      "execution_count": null,
      "outputs": [
        {
          "output_type": "execute_result",
          "data": {
            "text/plain": [
              "dtype('int64')"
            ]
          },
          "metadata": {
            "tags": []
          },
          "execution_count": 523
        }
      ]
    },
    {
      "cell_type": "code",
      "metadata": {
        "id": "vw9KeWrqvRm6",
        "outputId": "2d9fee7c-a658-41d4-9477-43715f352fc9",
        "colab": {
          "base_uri": "https://localhost:8080/",
          "height": 68
        }
      },
      "source": [
        "df['injured_severely'].value_counts()"
      ],
      "execution_count": null,
      "outputs": [
        {
          "output_type": "execute_result",
          "data": {
            "text/plain": [
              "0    34265\n",
              "1     3232\n",
              "Name: injured_severely, dtype: int64"
            ]
          },
          "metadata": {
            "tags": []
          },
          "execution_count": 524
        }
      ]
    },
    {
      "cell_type": "code",
      "metadata": {
        "id": "MO_LteMRgyk3",
        "outputId": "cb78d90b-e55b-465e-c48d-384b7e9fb908",
        "colab": {
          "base_uri": "https://localhost:8080/",
          "height": 34
        }
      },
      "source": [
        "df['injured_severely'].sum()"
      ],
      "execution_count": null,
      "outputs": [
        {
          "output_type": "execute_result",
          "data": {
            "text/plain": [
              "3232"
            ]
          },
          "metadata": {
            "tags": []
          },
          "execution_count": 525
        }
      ]
    },
    {
      "cell_type": "markdown",
      "metadata": {
        "id": "elQsv9fdgw8B"
      },
      "source": [
        "**Observation**: 3075 persons were severely injured in 2019 due to a road accident."
      ]
    },
    {
      "cell_type": "markdown",
      "metadata": {
        "id": "mzyfJ6fGvVbb"
      },
      "source": [
        "## Injured sightly"
      ]
    },
    {
      "cell_type": "code",
      "metadata": {
        "id": "cytfI4anva1a",
        "outputId": "547caf89-9546-4012-b7ac-b57ed07ed52f",
        "colab": {
          "base_uri": "https://localhost:8080/",
          "height": 34
        }
      },
      "source": [
        "df['injured_sightly'].dtype"
      ],
      "execution_count": null,
      "outputs": [
        {
          "output_type": "execute_result",
          "data": {
            "text/plain": [
              "dtype('int64')"
            ]
          },
          "metadata": {
            "tags": []
          },
          "execution_count": 526
        }
      ]
    },
    {
      "cell_type": "code",
      "metadata": {
        "id": "XPWkQN5KvfBJ",
        "outputId": "db48c00a-cbd3-479c-cca8-9aac64bbc3ad",
        "colab": {
          "base_uri": "https://localhost:8080/",
          "height": 102
        }
      },
      "source": [
        "df['injured_sightly'].value_counts()"
      ],
      "execution_count": null,
      "outputs": [
        {
          "output_type": "execute_result",
          "data": {
            "text/plain": [
              "1    33503\n",
              "0     3819\n",
              "2      170\n",
              "3        5\n",
              "Name: injured_sightly, dtype: int64"
            ]
          },
          "metadata": {
            "tags": []
          },
          "execution_count": 527
        }
      ]
    },
    {
      "cell_type": "code",
      "metadata": {
        "id": "RH0J6lj_vkwz",
        "outputId": "8e3745bf-e2ab-41df-b6bd-6ee2ab8b9dfa",
        "colab": {
          "base_uri": "https://localhost:8080/",
          "height": 34
        }
      },
      "source": [
        "df['injured_sightly'].sum()"
      ],
      "execution_count": null,
      "outputs": [
        {
          "output_type": "execute_result",
          "data": {
            "text/plain": [
              "33858"
            ]
          },
          "metadata": {
            "tags": []
          },
          "execution_count": 528
        }
      ]
    },
    {
      "cell_type": "markdown",
      "metadata": {
        "id": "dBeisqBfgqUa"
      },
      "source": [
        "**Observation**: 33858 persons were sightly injured in 2019 due to a road accident."
      ]
    },
    {
      "cell_type": "markdown",
      "metadata": {
        "id": "9KiImeDDiJ9l"
      },
      "source": [
        "## Total injured"
      ]
    },
    {
      "cell_type": "markdown",
      "metadata": {
        "id": "mllJFYE5m85i"
      },
      "source": [
        "Total injured:"
      ]
    },
    {
      "cell_type": "code",
      "metadata": {
        "id": "GewHtoNZixpi",
        "outputId": "8af2da2c-0b38-4b99-ec53-302c7b018398",
        "colab": {
          "base_uri": "https://localhost:8080/",
          "height": 34
        }
      },
      "source": [
        "df['injured_sightly'].sum() + df['injured_severely'].sum() + df['injured_mortally'].sum()"
      ],
      "execution_count": null,
      "outputs": [
        {
          "output_type": "execute_result",
          "data": {
            "text/plain": [
              "37239"
            ]
          },
          "metadata": {
            "tags": []
          },
          "execution_count": 529
        }
      ]
    },
    {
      "cell_type": "markdown",
      "metadata": {
        "id": "0_pt4JCim_Qk"
      },
      "source": [
        "Total injured severely"
      ]
    },
    {
      "cell_type": "code",
      "metadata": {
        "id": "mNzKuzc6nNYx",
        "outputId": "7e306548-43b5-448d-f564-bf78408baff2",
        "colab": {
          "base_uri": "https://localhost:8080/",
          "height": 34
        }
      },
      "source": [
        "df['injured_severely'].sum() + df['injured_mortally'].sum()"
      ],
      "execution_count": null,
      "outputs": [
        {
          "output_type": "execute_result",
          "data": {
            "text/plain": [
              "3381"
            ]
          },
          "metadata": {
            "tags": []
          },
          "execution_count": 530
        }
      ]
    },
    {
      "cell_type": "markdown",
      "metadata": {
        "id": "rG_VJ9-fSyT3"
      },
      "source": [
        "# Per variable cleaning"
      ]
    },
    {
      "cell_type": "code",
      "metadata": {
        "id": "yoKdVpqlTY44",
        "outputId": "34c63711-2e4b-4ddb-e426-4b008532895f",
        "colab": {
          "base_uri": "https://localhost:8080/",
          "height": 340
        }
      },
      "source": [
        "df.count()"
      ],
      "execution_count": null,
      "outputs": [
        {
          "output_type": "execute_result",
          "data": {
            "text/plain": [
              "week_day              37497\n",
              "light_condition       37497\n",
              "road_type             37497\n",
              "incident_place        37497\n",
              "collision_type        37497\n",
              "dead_injured          37497\n",
              "dead_total_30_days    37497\n",
              "dead_directly         37497\n",
              "injured_mortally      37497\n",
              "injured_severely      37497\n",
              "injured_sightly       37497\n",
              "municipality_ins      37497\n",
              "municipality_name     37497\n",
              "province_ins          33601\n",
              "province_name         33601\n",
              "region_ins            37497\n",
              "region_name           37497\n",
              "datetime              37497\n",
              "dtype: int64"
            ]
          },
          "metadata": {
            "tags": []
          },
          "execution_count": 531
        }
      ]
    },
    {
      "cell_type": "markdown",
      "metadata": {
        "id": "6EGb6IXfTBHP"
      },
      "source": [
        "## Light condition"
      ]
    },
    {
      "cell_type": "code",
      "metadata": {
        "id": "NCzSe3L7Sx6Z",
        "outputId": "e0ed96df-561e-441e-d9c1-740838787d7f",
        "colab": {
          "base_uri": "https://localhost:8080/"
        }
      },
      "source": [
        "df['light_condition'].describe()"
      ],
      "execution_count": null,
      "outputs": [
        {
          "output_type": "execute_result",
          "data": {
            "text/plain": [
              "count          37497\n",
              "unique             5\n",
              "top       Plein jour\n",
              "freq           25667\n",
              "Name: light_condition, dtype: object"
            ]
          },
          "metadata": {
            "tags": []
          },
          "execution_count": 532
        }
      ]
    },
    {
      "cell_type": "markdown",
      "metadata": {
        "id": "PzDX7v-dTzOl"
      },
      "source": [
        "1600 entries has no light condition, drop them"
      ]
    },
    {
      "cell_type": "code",
      "metadata": {
        "id": "eSMDTtneTjJH",
        "outputId": "30cecac3-a4b6-4fdd-c04b-da903cba2afc",
        "colab": {
          "base_uri": "https://localhost:8080/"
        }
      },
      "source": [
        "df['light_condition'].value_counts()"
      ],
      "execution_count": null,
      "outputs": [
        {
          "output_type": "execute_result",
          "data": {
            "text/plain": [
              "Plein jour                       25667\n",
              "Nuit, éclairage public allumé     7519\n",
              "Aube, crépuscule                  1768\n",
              "Non disponible                    1686\n",
              "Nuit sans éclairage public         857\n",
              "Name: light_condition, dtype: int64"
            ]
          },
          "metadata": {
            "tags": []
          },
          "execution_count": 533
        }
      ]
    },
    {
      "cell_type": "code",
      "metadata": {
        "id": "JrU6lWiTT4Zy"
      },
      "source": [
        "df = df[df['light_condition'] != 'Non disponible']"
      ],
      "execution_count": null,
      "outputs": []
    },
    {
      "cell_type": "markdown",
      "metadata": {
        "id": "UJseNwOqUxu9"
      },
      "source": [
        "Create a \"light intensity index\" variable, thanks to: https://fr.wikipedia.org/wiki/Lumi%C3%A8re_du_jour\n",
        "\n",
        "More light to less light:\n",
        "*   Plein jour\n",
        "*   Aube, crépuscule\n",
        "*   Nuit, éclairage public\n",
        "*   Nuit, sans éclairage public\n",
        "\n"
      ]
    },
    {
      "cell_type": "code",
      "metadata": {
        "id": "F8XqmPkqVliV"
      },
      "source": [
        "def light_condition_to_index(string):\n",
        "\n",
        "  if string == 'Plein jour':\n",
        "    return 3\n",
        "  elif string == 'Aube, crépuscule':\n",
        "    return 2\n",
        "  elif string == 'Nuit, éclairage public allumé':\n",
        "    return 1\n",
        "  else:\n",
        "    return 0"
      ],
      "execution_count": null,
      "outputs": []
    },
    {
      "cell_type": "code",
      "metadata": {
        "id": "cgBgD-0oW9zs"
      },
      "source": [
        "# Transform the 'light_condition' to a light index.\n",
        "df_light_index = df.apply(lambda x: light_condition_to_index(x['light_condition']),axis=1)\n",
        "\n",
        "# Merge with df\n",
        "df = pd.concat([df, df_light_index], axis=1)\n",
        "\n",
        "# Rename if\n",
        "df.rename(columns = {0: 'light_index'}, inplace=True) "
      ],
      "execution_count": null,
      "outputs": []
    },
    {
      "cell_type": "code",
      "metadata": {
        "id": "DZkef01uXcXw",
        "outputId": "d2fdaf36-cb45-4e52-946a-02164dc6c9c0",
        "colab": {
          "base_uri": "https://localhost:8080/"
        }
      },
      "source": [
        "df['light_index'].value_counts()"
      ],
      "execution_count": null,
      "outputs": [
        {
          "output_type": "execute_result",
          "data": {
            "text/plain": [
              "3    25667\n",
              "1     7519\n",
              "2     1768\n",
              "0      857\n",
              "Name: light_index, dtype: int64"
            ]
          },
          "metadata": {
            "tags": []
          },
          "execution_count": 537
        }
      ]
    },
    {
      "cell_type": "markdown",
      "metadata": {
        "id": "MeBFINTDXy9b"
      },
      "source": [
        "## Road type"
      ]
    },
    {
      "cell_type": "code",
      "metadata": {
        "id": "AGZEOZE6X2jj",
        "outputId": "83a9d2ee-7f1d-452b-9405-326f9ba46ccc",
        "colab": {
          "base_uri": "https://localhost:8080/"
        }
      },
      "source": [
        "df['road_type'].describe()"
      ],
      "execution_count": null,
      "outputs": [
        {
          "output_type": "execute_result",
          "data": {
            "text/plain": [
              "count                                         35811\n",
              "unique                                            3\n",
              "top       Route régionale, provinciale ou communale\n",
              "freq                                          32902\n",
              "Name: road_type, dtype: object"
            ]
          },
          "metadata": {
            "tags": []
          },
          "execution_count": 538
        }
      ]
    },
    {
      "cell_type": "markdown",
      "metadata": {
        "id": "jy-0vo4TYCNl"
      },
      "source": [
        "Some variables are missing, drop them"
      ]
    },
    {
      "cell_type": "code",
      "metadata": {
        "id": "L3rfQl1dX-WK",
        "outputId": "526d82c7-1b13-427f-b42f-c9511f5a79a0",
        "colab": {
          "base_uri": "https://localhost:8080/"
        }
      },
      "source": [
        "df['road_type'].value_counts()"
      ],
      "execution_count": null,
      "outputs": [
        {
          "output_type": "execute_result",
          "data": {
            "text/plain": [
              "Route régionale, provinciale ou communale    32902\n",
              "Autoroute                                     2775\n",
              "Inconnu                                        134\n",
              "Name: road_type, dtype: int64"
            ]
          },
          "metadata": {
            "tags": []
          },
          "execution_count": 539
        }
      ]
    },
    {
      "cell_type": "code",
      "metadata": {
        "id": "VVtwmLbeYF90"
      },
      "source": [
        "df = df[df['road_type'] != 'Inconnu']"
      ],
      "execution_count": null,
      "outputs": []
    },
    {
      "cell_type": "markdown",
      "metadata": {
        "id": "fwqlqovkYe8P"
      },
      "source": [
        "## Incident place"
      ]
    },
    {
      "cell_type": "code",
      "metadata": {
        "id": "2wvA09TNYiy3",
        "outputId": "6de90d51-602b-4b5e-e199-6e0215b47364",
        "colab": {
          "base_uri": "https://localhost:8080/"
        }
      },
      "source": [
        "df['incident_place'].describe()"
      ],
      "execution_count": null,
      "outputs": [
        {
          "output_type": "execute_result",
          "data": {
            "text/plain": [
              "count                35677\n",
              "unique                   3\n",
              "top       En agglomération\n",
              "freq                 21492\n",
              "Name: incident_place, dtype: object"
            ]
          },
          "metadata": {
            "tags": []
          },
          "execution_count": 541
        }
      ]
    },
    {
      "cell_type": "markdown",
      "metadata": {
        "id": "A982pt36Yven"
      },
      "source": [
        "Drop the 'Non disponible' entries"
      ]
    },
    {
      "cell_type": "code",
      "metadata": {
        "id": "BO4T97EdYrKE",
        "outputId": "fd4a11ea-2f0e-46cb-eda4-6f04e948dcac",
        "colab": {
          "base_uri": "https://localhost:8080/"
        }
      },
      "source": [
        "df['incident_place'].value_counts()"
      ],
      "execution_count": null,
      "outputs": [
        {
          "output_type": "execute_result",
          "data": {
            "text/plain": [
              "En agglomération      21492\n",
              "Hors agglomération    13464\n",
              "Non disponible          721\n",
              "Name: incident_place, dtype: int64"
            ]
          },
          "metadata": {
            "tags": []
          },
          "execution_count": 542
        }
      ]
    },
    {
      "cell_type": "code",
      "metadata": {
        "id": "8_ikDJdvYzo6"
      },
      "source": [
        "df = df[df['incident_place'] != 'Non disponible']"
      ],
      "execution_count": null,
      "outputs": []
    },
    {
      "cell_type": "markdown",
      "metadata": {
        "id": "HVry8wJGfWeA"
      },
      "source": [
        "## Max velocity"
      ]
    },
    {
      "cell_type": "markdown",
      "metadata": {
        "id": "X1uoTs32fY-j"
      },
      "source": [
        "Based on road type and incident place, create a \"max velocity\" variable"
      ]
    },
    {
      "cell_type": "code",
      "metadata": {
        "id": "mdqTcw8TgA1N"
      },
      "source": [
        "def to_max_velocity(road_type, incident_place):\n",
        "\n",
        "  if road_type == 'Autoroute':\n",
        "    return 120\n",
        "  elif incident_place == 'En agglomération':\n",
        "    return 50\n",
        "  else:\n",
        "    return 90"
      ],
      "execution_count": null,
      "outputs": []
    },
    {
      "cell_type": "code",
      "metadata": {
        "id": "tAjSDj9hhZjt"
      },
      "source": [
        "# Create a \"max_velocity\" column based on \"road_type\" and \"incident_place\"\n",
        "max_velocity = df.apply(lambda x: to_max_velocity(x['road_type'], x['incident_place']), axis=1)\n",
        "\n",
        "# Merge 'max_velocity' with the dataframe\n",
        "df = pd.concat([df, max_velocity], axis=1)\n",
        "\n",
        "# Rename it\n",
        "df.rename(columns = {0: 'max_velocity'}, inplace = True) "
      ],
      "execution_count": null,
      "outputs": []
    },
    {
      "cell_type": "code",
      "metadata": {
        "id": "8AgrXyd3ibVM",
        "outputId": "c9aee936-de26-4cdc-ce77-fc866af3914a",
        "colab": {
          "base_uri": "https://localhost:8080/"
        }
      },
      "source": [
        "df.head(3)"
      ],
      "execution_count": null,
      "outputs": [
        {
          "output_type": "execute_result",
          "data": {
            "text/html": [
              "<div>\n",
              "<style scoped>\n",
              "    .dataframe tbody tr th:only-of-type {\n",
              "        vertical-align: middle;\n",
              "    }\n",
              "\n",
              "    .dataframe tbody tr th {\n",
              "        vertical-align: top;\n",
              "    }\n",
              "\n",
              "    .dataframe thead th {\n",
              "        text-align: right;\n",
              "    }\n",
              "</style>\n",
              "<table border=\"1\" class=\"dataframe\">\n",
              "  <thead>\n",
              "    <tr style=\"text-align: right;\">\n",
              "      <th></th>\n",
              "      <th>week_day</th>\n",
              "      <th>light_condition</th>\n",
              "      <th>road_type</th>\n",
              "      <th>incident_place</th>\n",
              "      <th>collision_type</th>\n",
              "      <th>dead_injured</th>\n",
              "      <th>dead_total_30_days</th>\n",
              "      <th>dead_directly</th>\n",
              "      <th>injured_mortally</th>\n",
              "      <th>injured_severely</th>\n",
              "      <th>injured_sightly</th>\n",
              "      <th>municipality_ins</th>\n",
              "      <th>municipality_name</th>\n",
              "      <th>province_ins</th>\n",
              "      <th>province_name</th>\n",
              "      <th>region_ins</th>\n",
              "      <th>region_name</th>\n",
              "      <th>datetime</th>\n",
              "      <th>light_index</th>\n",
              "      <th>max_velocity</th>\n",
              "    </tr>\n",
              "    <tr>\n",
              "      <th>datetime</th>\n",
              "      <th></th>\n",
              "      <th></th>\n",
              "      <th></th>\n",
              "      <th></th>\n",
              "      <th></th>\n",
              "      <th></th>\n",
              "      <th></th>\n",
              "      <th></th>\n",
              "      <th></th>\n",
              "      <th></th>\n",
              "      <th></th>\n",
              "      <th></th>\n",
              "      <th></th>\n",
              "      <th></th>\n",
              "      <th></th>\n",
              "      <th></th>\n",
              "      <th></th>\n",
              "      <th></th>\n",
              "      <th></th>\n",
              "      <th></th>\n",
              "    </tr>\n",
              "  </thead>\n",
              "  <tbody>\n",
              "    <tr>\n",
              "      <th>2019-09-27 18:00:00</th>\n",
              "      <td>Friday</td>\n",
              "      <td>Plein jour</td>\n",
              "      <td>Autoroute</td>\n",
              "      <td>Hors agglomération</td>\n",
              "      <td>Collision en chaine (entre 4 conducteurs ou plus)</td>\n",
              "      <td>1</td>\n",
              "      <td>1</td>\n",
              "      <td>1</td>\n",
              "      <td>0</td>\n",
              "      <td>0</td>\n",
              "      <td>0</td>\n",
              "      <td>11001</td>\n",
              "      <td>Aartselaar</td>\n",
              "      <td>10000.0</td>\n",
              "      <td>Province d’Anvers</td>\n",
              "      <td>2000</td>\n",
              "      <td>Région flamande</td>\n",
              "      <td>2019-09-27 18:00:00</td>\n",
              "      <td>3</td>\n",
              "      <td>120</td>\n",
              "    </tr>\n",
              "    <tr>\n",
              "      <th>2019-11-20 12:00:00</th>\n",
              "      <td>Wednesday</td>\n",
              "      <td>Plein jour</td>\n",
              "      <td>Route régionale, provinciale ou communale</td>\n",
              "      <td>En agglomération</td>\n",
              "      <td>Par le côté</td>\n",
              "      <td>1</td>\n",
              "      <td>0</td>\n",
              "      <td>0</td>\n",
              "      <td>0</td>\n",
              "      <td>0</td>\n",
              "      <td>1</td>\n",
              "      <td>11001</td>\n",
              "      <td>Aartselaar</td>\n",
              "      <td>10000.0</td>\n",
              "      <td>Province d’Anvers</td>\n",
              "      <td>2000</td>\n",
              "      <td>Région flamande</td>\n",
              "      <td>2019-11-20 12:00:00</td>\n",
              "      <td>3</td>\n",
              "      <td>50</td>\n",
              "    </tr>\n",
              "    <tr>\n",
              "      <th>2019-07-15 14:00:00</th>\n",
              "      <td>Monday</td>\n",
              "      <td>Plein jour</td>\n",
              "      <td>Route régionale, provinciale ou communale</td>\n",
              "      <td>En agglomération</td>\n",
              "      <td>Non disponible</td>\n",
              "      <td>1</td>\n",
              "      <td>0</td>\n",
              "      <td>0</td>\n",
              "      <td>0</td>\n",
              "      <td>0</td>\n",
              "      <td>1</td>\n",
              "      <td>11001</td>\n",
              "      <td>Aartselaar</td>\n",
              "      <td>10000.0</td>\n",
              "      <td>Province d’Anvers</td>\n",
              "      <td>2000</td>\n",
              "      <td>Région flamande</td>\n",
              "      <td>2019-07-15 14:00:00</td>\n",
              "      <td>3</td>\n",
              "      <td>50</td>\n",
              "    </tr>\n",
              "  </tbody>\n",
              "</table>\n",
              "</div>"
            ],
            "text/plain": [
              "                      week_day light_condition  ... light_index max_velocity\n",
              "datetime                                        ...                         \n",
              "2019-09-27 18:00:00     Friday      Plein jour  ...           3          120\n",
              "2019-11-20 12:00:00  Wednesday      Plein jour  ...           3           50\n",
              "2019-07-15 14:00:00     Monday      Plein jour  ...           3           50\n",
              "\n",
              "[3 rows x 20 columns]"
            ]
          },
          "metadata": {
            "tags": []
          },
          "execution_count": 546
        }
      ]
    },
    {
      "cell_type": "markdown",
      "metadata": {
        "id": "2628urGymTC3"
      },
      "source": [
        "## Collision type"
      ]
    },
    {
      "cell_type": "code",
      "metadata": {
        "id": "gt_tBATRmYKj",
        "outputId": "619fe844-48e3-4ff6-c8dc-33d37d7c4586",
        "colab": {
          "base_uri": "https://localhost:8080/"
        }
      },
      "source": [
        "df['collision_type'].value_counts()"
      ],
      "execution_count": null,
      "outputs": [
        {
          "output_type": "execute_result",
          "data": {
            "text/plain": [
              "Par le côté                                          10173\n",
              "Non disponible                                        5650\n",
              "Par l'arrière (ou en parallèle)                       4714\n",
              "Contre un obstacle hors de la chaussée                4261\n",
              "Avec un piéton                                        3739\n",
              "Collision frontale (ou en croisement)                 2380\n",
              "Un seul usager, pas d'obstacle                        2125\n",
              "Collision en chaine (entre 4 conducteurs ou plus)     1322\n",
              "Contre un obstacle situé sur la chaussée               592\n",
              "Name: collision_type, dtype: int64"
            ]
          },
          "metadata": {
            "tags": []
          },
          "execution_count": 547
        }
      ]
    },
    {
      "cell_type": "markdown",
      "metadata": {
        "id": "lEADNUZRmqGz"
      },
      "source": [
        "Collision type has a lot of missing values. However, this is just an informative value. We won't use it for math, so we won't remove the missings."
      ]
    },
    {
      "cell_type": "code",
      "metadata": {
        "id": "OY6XAA4fmVn0",
        "outputId": "ec9586d6-f346-4d55-cf12-d0d36aa746c4",
        "colab": {
          "base_uri": "https://localhost:8080/"
        }
      },
      "source": [
        "df['collision_type'].describe()"
      ],
      "execution_count": null,
      "outputs": [
        {
          "output_type": "execute_result",
          "data": {
            "text/plain": [
              "count           34956\n",
              "unique              9\n",
              "top       Par le côté\n",
              "freq            10173\n",
              "Name: collision_type, dtype: object"
            ]
          },
          "metadata": {
            "tags": []
          },
          "execution_count": 548
        }
      ]
    },
    {
      "cell_type": "markdown",
      "metadata": {
        "id": "PpEyOhyOsY-h"
      },
      "source": [
        "## Province"
      ]
    },
    {
      "cell_type": "markdown",
      "metadata": {
        "id": "NqqUhpTet6Pq"
      },
      "source": [
        "It's seems that entries with null/nan are from the brussels' municipalities: Brussels' region has no province."
      ]
    },
    {
      "cell_type": "code",
      "metadata": {
        "id": "EtJZfXASsbvr",
        "outputId": "0a791f5c-b343-49d9-9f9d-0a95bb727384",
        "colab": {
          "base_uri": "https://localhost:8080/",
          "height": 298
        }
      },
      "source": [
        "missing = df[df.isnull().any(axis=1)]\n",
        "missing.head(2)"
      ],
      "execution_count": null,
      "outputs": [
        {
          "output_type": "execute_result",
          "data": {
            "text/html": [
              "<div>\n",
              "<style scoped>\n",
              "    .dataframe tbody tr th:only-of-type {\n",
              "        vertical-align: middle;\n",
              "    }\n",
              "\n",
              "    .dataframe tbody tr th {\n",
              "        vertical-align: top;\n",
              "    }\n",
              "\n",
              "    .dataframe thead th {\n",
              "        text-align: right;\n",
              "    }\n",
              "</style>\n",
              "<table border=\"1\" class=\"dataframe\">\n",
              "  <thead>\n",
              "    <tr style=\"text-align: right;\">\n",
              "      <th></th>\n",
              "      <th>week_day</th>\n",
              "      <th>light_condition</th>\n",
              "      <th>road_type</th>\n",
              "      <th>incident_place</th>\n",
              "      <th>collision_type</th>\n",
              "      <th>dead_injured</th>\n",
              "      <th>dead_total_30_days</th>\n",
              "      <th>dead_directly</th>\n",
              "      <th>injured_mortally</th>\n",
              "      <th>injured_severely</th>\n",
              "      <th>injured_sightly</th>\n",
              "      <th>municipality_ins</th>\n",
              "      <th>municipality_name</th>\n",
              "      <th>province_ins</th>\n",
              "      <th>province_name</th>\n",
              "      <th>region_ins</th>\n",
              "      <th>region_name</th>\n",
              "      <th>datetime</th>\n",
              "      <th>light_index</th>\n",
              "      <th>max_velocity</th>\n",
              "    </tr>\n",
              "    <tr>\n",
              "      <th>datetime</th>\n",
              "      <th></th>\n",
              "      <th></th>\n",
              "      <th></th>\n",
              "      <th></th>\n",
              "      <th></th>\n",
              "      <th></th>\n",
              "      <th></th>\n",
              "      <th></th>\n",
              "      <th></th>\n",
              "      <th></th>\n",
              "      <th></th>\n",
              "      <th></th>\n",
              "      <th></th>\n",
              "      <th></th>\n",
              "      <th></th>\n",
              "      <th></th>\n",
              "      <th></th>\n",
              "      <th></th>\n",
              "      <th></th>\n",
              "      <th></th>\n",
              "    </tr>\n",
              "  </thead>\n",
              "  <tbody>\n",
              "    <tr>\n",
              "      <th>2019-11-02 14:00:00</th>\n",
              "      <td>Saturday</td>\n",
              "      <td>Plein jour</td>\n",
              "      <td>Route régionale, provinciale ou communale</td>\n",
              "      <td>En agglomération</td>\n",
              "      <td>Par le côté</td>\n",
              "      <td>1</td>\n",
              "      <td>0</td>\n",
              "      <td>0</td>\n",
              "      <td>0</td>\n",
              "      <td>0</td>\n",
              "      <td>1</td>\n",
              "      <td>21001</td>\n",
              "      <td>Anderlecht</td>\n",
              "      <td>NaN</td>\n",
              "      <td>NaN</td>\n",
              "      <td>4000</td>\n",
              "      <td>Région de Bruxelles-Capitale</td>\n",
              "      <td>2019-11-02 14:00:00</td>\n",
              "      <td>3</td>\n",
              "      <td>50</td>\n",
              "    </tr>\n",
              "    <tr>\n",
              "      <th>2019-04-05 10:00:00</th>\n",
              "      <td>Friday</td>\n",
              "      <td>Plein jour</td>\n",
              "      <td>Route régionale, provinciale ou communale</td>\n",
              "      <td>En agglomération</td>\n",
              "      <td>Avec un piéton</td>\n",
              "      <td>1</td>\n",
              "      <td>0</td>\n",
              "      <td>0</td>\n",
              "      <td>0</td>\n",
              "      <td>0</td>\n",
              "      <td>1</td>\n",
              "      <td>21001</td>\n",
              "      <td>Anderlecht</td>\n",
              "      <td>NaN</td>\n",
              "      <td>NaN</td>\n",
              "      <td>4000</td>\n",
              "      <td>Région de Bruxelles-Capitale</td>\n",
              "      <td>2019-04-05 10:00:00</td>\n",
              "      <td>3</td>\n",
              "      <td>50</td>\n",
              "    </tr>\n",
              "  </tbody>\n",
              "</table>\n",
              "</div>"
            ],
            "text/plain": [
              "                     week_day light_condition  ... light_index max_velocity\n",
              "datetime                                       ...                         \n",
              "2019-11-02 14:00:00  Saturday      Plein jour  ...           3           50\n",
              "2019-04-05 10:00:00    Friday      Plein jour  ...           3           50\n",
              "\n",
              "[2 rows x 20 columns]"
            ]
          },
          "metadata": {
            "tags": []
          },
          "execution_count": 549
        }
      ]
    },
    {
      "cell_type": "code",
      "metadata": {
        "id": "6aAyM0830Jca",
        "outputId": "af8fc2cd-d965-4225-a9d7-f4f66f8c2f84",
        "colab": {
          "base_uri": "https://localhost:8080/",
          "height": 357
        }
      },
      "source": [
        "missing['municipality_name'].value_counts()"
      ],
      "execution_count": null,
      "outputs": [
        {
          "output_type": "execute_result",
          "data": {
            "text/plain": [
              "Bruxelles                      1233\n",
              "Anderlecht                      372\n",
              "Ixelles                         325\n",
              "Schaerbeek                      271\n",
              "Molenbeek-Saint-Jean            206\n",
              "Uccle                           195\n",
              "Saint-Gilles                    155\n",
              "Woluwe-Saint-Lambert            124\n",
              "Forest (Bruxelles-Capitale)     110\n",
              "Etterbeek                       106\n",
              "Woluwe-Saint-Pierre              99\n",
              "Evere                            83\n",
              "Auderghem                        76\n",
              "Jette                            62\n",
              "Koekelberg                       59\n",
              "Saint-Josse-ten-Noode            46\n",
              "Berchem-Sainte-Agathe            44\n",
              "Ganshoren                        42\n",
              "Watermael-Boitsfort              26\n",
              "Name: municipality_name, dtype: int64"
            ]
          },
          "metadata": {
            "tags": []
          },
          "execution_count": 550
        }
      ]
    },
    {
      "cell_type": "markdown",
      "metadata": {
        "id": "dj0HwOlx1TLR"
      },
      "source": [
        "Copy the region code and name to province for the municipality of Brussels:"
      ]
    },
    {
      "cell_type": "code",
      "metadata": {
        "id": "_CdENsjQ1jvt"
      },
      "source": [
        "df['province_ins'].fillna(4000, inplace = True)\n",
        "df['province_name'].fillna(\"Région de Bruxelles-Capitale\", inplace = True)"
      ],
      "execution_count": null,
      "outputs": []
    },
    {
      "cell_type": "code",
      "metadata": {
        "id": "V0eooqNK1_g_",
        "outputId": "6db123e2-df44-4719-a975-a84d46018d51",
        "colab": {
          "base_uri": "https://localhost:8080/",
          "height": 374
        }
      },
      "source": [
        "df.count()"
      ],
      "execution_count": null,
      "outputs": [
        {
          "output_type": "execute_result",
          "data": {
            "text/plain": [
              "week_day              34956\n",
              "light_condition       34956\n",
              "road_type             34956\n",
              "incident_place        34956\n",
              "collision_type        34956\n",
              "dead_injured          34956\n",
              "dead_total_30_days    34956\n",
              "dead_directly         34956\n",
              "injured_mortally      34956\n",
              "injured_severely      34956\n",
              "injured_sightly       34956\n",
              "municipality_ins      34956\n",
              "municipality_name     34956\n",
              "province_ins          34956\n",
              "province_name         34956\n",
              "region_ins            34956\n",
              "region_name           34956\n",
              "datetime              34956\n",
              "light_index           34956\n",
              "max_velocity          34956\n",
              "dtype: int64"
            ]
          },
          "metadata": {
            "tags": []
          },
          "execution_count": 552
        }
      ]
    },
    {
      "cell_type": "markdown",
      "metadata": {
        "id": "fAoY3rjW2gvR"
      },
      "source": [
        "# Data analysis"
      ]
    },
    {
      "cell_type": "markdown",
      "metadata": {
        "id": "cifJrE-L2jFh"
      },
      "source": [
        "## Univariate: Death - The target"
      ]
    },
    {
      "cell_type": "markdown",
      "metadata": {
        "id": "A5zfG6VG3D46"
      },
      "source": [
        "*Dead total 30 days* variable's distribution"
      ]
    },
    {
      "cell_type": "code",
      "metadata": {
        "id": "PegsWPTpAh7B",
        "outputId": "828c4ae0-bebd-4aaa-e85d-14f95d21d946",
        "colab": {
          "base_uri": "https://localhost:8080/",
          "height": 340
        }
      },
      "source": [
        "by_month = df.resample('M').sum()\n",
        "by_month.head()"
      ],
      "execution_count": null,
      "outputs": [
        {
          "output_type": "execute_result",
          "data": {
            "text/html": [
              "<div>\n",
              "<style scoped>\n",
              "    .dataframe tbody tr th:only-of-type {\n",
              "        vertical-align: middle;\n",
              "    }\n",
              "\n",
              "    .dataframe tbody tr th {\n",
              "        vertical-align: top;\n",
              "    }\n",
              "\n",
              "    .dataframe thead th {\n",
              "        text-align: right;\n",
              "    }\n",
              "</style>\n",
              "<table border=\"1\" class=\"dataframe\">\n",
              "  <thead>\n",
              "    <tr style=\"text-align: right;\">\n",
              "      <th></th>\n",
              "      <th>dead_injured</th>\n",
              "      <th>dead_total_30_days</th>\n",
              "      <th>dead_directly</th>\n",
              "      <th>injured_mortally</th>\n",
              "      <th>injured_severely</th>\n",
              "      <th>injured_sightly</th>\n",
              "      <th>municipality_ins</th>\n",
              "      <th>province_ins</th>\n",
              "      <th>region_ins</th>\n",
              "      <th>light_index</th>\n",
              "      <th>max_velocity</th>\n",
              "    </tr>\n",
              "    <tr>\n",
              "      <th>datetime</th>\n",
              "      <th></th>\n",
              "      <th></th>\n",
              "      <th></th>\n",
              "      <th></th>\n",
              "      <th></th>\n",
              "      <th></th>\n",
              "      <th></th>\n",
              "      <th></th>\n",
              "      <th></th>\n",
              "      <th></th>\n",
              "      <th></th>\n",
              "    </tr>\n",
              "  </thead>\n",
              "  <tbody>\n",
              "    <tr>\n",
              "      <th>2019-01-31</th>\n",
              "      <td>2555</td>\n",
              "      <td>39</td>\n",
              "      <td>35</td>\n",
              "      <td>4</td>\n",
              "      <td>201</td>\n",
              "      <td>2315</td>\n",
              "      <td>103974578</td>\n",
              "      <td>93158343.0</td>\n",
              "      <td>6323000</td>\n",
              "      <td>5092</td>\n",
              "      <td>175640</td>\n",
              "    </tr>\n",
              "    <tr>\n",
              "      <th>2019-02-28</th>\n",
              "      <td>2681</td>\n",
              "      <td>44</td>\n",
              "      <td>28</td>\n",
              "      <td>16</td>\n",
              "      <td>246</td>\n",
              "      <td>2391</td>\n",
              "      <td>104593836</td>\n",
              "      <td>93096421.0</td>\n",
              "      <td>6569000</td>\n",
              "      <td>6253</td>\n",
              "      <td>181030</td>\n",
              "    </tr>\n",
              "    <tr>\n",
              "      <th>2019-03-31</th>\n",
              "      <td>2754</td>\n",
              "      <td>46</td>\n",
              "      <td>36</td>\n",
              "      <td>10</td>\n",
              "      <td>213</td>\n",
              "      <td>2495</td>\n",
              "      <td>109866070</td>\n",
              "      <td>97500420.0</td>\n",
              "      <td>6916000</td>\n",
              "      <td>6645</td>\n",
              "      <td>187060</td>\n",
              "    </tr>\n",
              "    <tr>\n",
              "      <th>2019-04-30</th>\n",
              "      <td>2749</td>\n",
              "      <td>49</td>\n",
              "      <td>37</td>\n",
              "      <td>12</td>\n",
              "      <td>226</td>\n",
              "      <td>2474</td>\n",
              "      <td>109799836</td>\n",
              "      <td>97386399.0</td>\n",
              "      <td>6843000</td>\n",
              "      <td>7291</td>\n",
              "      <td>183600</td>\n",
              "    </tr>\n",
              "    <tr>\n",
              "      <th>2019-05-31</th>\n",
              "      <td>3110</td>\n",
              "      <td>53</td>\n",
              "      <td>41</td>\n",
              "      <td>12</td>\n",
              "      <td>259</td>\n",
              "      <td>2798</td>\n",
              "      <td>121515114</td>\n",
              "      <td>107578450.0</td>\n",
              "      <td>7727000</td>\n",
              "      <td>8437</td>\n",
              "      <td>207640</td>\n",
              "    </tr>\n",
              "  </tbody>\n",
              "</table>\n",
              "</div>"
            ],
            "text/plain": [
              "            dead_injured  dead_total_30_days  ...  light_index  max_velocity\n",
              "datetime                                      ...                           \n",
              "2019-01-31          2555                  39  ...         5092        175640\n",
              "2019-02-28          2681                  44  ...         6253        181030\n",
              "2019-03-31          2754                  46  ...         6645        187060\n",
              "2019-04-30          2749                  49  ...         7291        183600\n",
              "2019-05-31          3110                  53  ...         8437        207640\n",
              "\n",
              "[5 rows x 11 columns]"
            ]
          },
          "metadata": {
            "tags": []
          },
          "execution_count": 579
        }
      ]
    },
    {
      "cell_type": "code",
      "metadata": {
        "id": "s6rTkS2Q760g",
        "outputId": "30c00fd6-28c1-4756-a25b-6aaaff6f23b1",
        "colab": {
          "base_uri": "https://localhost:8080/",
          "height": 965
        }
      },
      "source": [
        "fig, ax = plt.subplots(figsize = (20,12))    \n",
        "fig = sns.barplot(x=by_month.index, y=\"dead_total_30_days\", data=by_month, ax=ax)\n",
        "\n",
        "\n",
        "x_dates = df.index.strftime('%m-%B').sort_values().unique()\n",
        "ax.set_xticklabels(labels=x_dates, rotation=45, ha='right')"
      ],
      "execution_count": null,
      "outputs": [
        {
          "output_type": "execute_result",
          "data": {
            "text/plain": [
              "[Text(0, 0, '01-January'),\n",
              " Text(0, 0, '02-February'),\n",
              " Text(0, 0, '03-March'),\n",
              " Text(0, 0, '04-April'),\n",
              " Text(0, 0, '05-May'),\n",
              " Text(0, 0, '06-June'),\n",
              " Text(0, 0, '07-July'),\n",
              " Text(0, 0, '08-August'),\n",
              " Text(0, 0, '09-September'),\n",
              " Text(0, 0, '10-October'),\n",
              " Text(0, 0, '11-November'),\n",
              " Text(0, 0, '12-December')]"
            ]
          },
          "metadata": {
            "tags": []
          },
          "execution_count": 580
        },
        {
          "output_type": "display_data",
          "data": {
            "image/png": "[encoded data removed]",
            "text/plain": [
              "<Figure size 1440x864 with 1 Axes>"
            ]
          },
          "metadata": {
            "tags": [],
            "needs_background": "light"
          }
        }
      ]
    },
    {
      "cell_type": "code",
      "metadata": {
        "id": "ICCKK1nM2r_h"
      },
      "source": [
        "# Math the Mode, Median and Mean\n",
        "mean = df['dead_total_30_days'].mean()\n",
        "median = df['dead_total_30_days'].median()\n",
        "mode = df['dead_total_30_days'].mode()[0]"
      ],
      "execution_count": null,
      "outputs": []
    },
    {
      "cell_type": "code",
      "metadata": {
        "id": "gezXxdPD3OmH",
        "outputId": "52f8eb35-ff2a-4544-8cef-e85b4def9e2f",
        "colab": {
          "base_uri": "https://localhost:8080/",
          "height": 996
        }
      },
      "source": [
        "# Resize the graph size\n",
        "plt.figure(figsize=(20,10))\n",
        "plt.ticklabel_format(style='plain', axis='x')\n",
        "\n",
        "#plt.axvline(mean, color='m', linewidth=3,label='Mean')\n",
        "#plt.axvline(median, color='b', linestyle='dashed', linewidth=3,label='Median')\n",
        "#plt.axvline(mode, color='g', linestyle='dashed', linewidth=3,label='Mode')\n",
        "\n",
        "# Label the axis\n",
        "plt.xlabel('Total death')\n",
        "plt.ylabel('Incidents')\n",
        "plt.legend()\n",
        "\n",
        "# Show the graph\n",
        "sns.displot(data=df, x=\"dead_injured\", kde=True, kde_kws={'bw_adjust': 1}, discrete=True)\n",
        "print(f\"Mean: {round(mean)} - Median: {round(median)} - Mode: {round(mode)}\")\n",
        "\n",
        "# plt.savefig('quality.svg', dpi=300, bbox_inches='tight')"
      ],
      "execution_count": null,
      "outputs": [
        {
          "output_type": "execute_result",
          "data": {
            "text/plain": [
              "<Figure size 1440x720 with 0 Axes>"
            ]
          },
          "metadata": {
            "tags": []
          },
          "execution_count": 556
        },
        {
          "output_type": "execute_result",
          "data": {
            "text/plain": [
              "Text(0.5, 0, 'Total death')"
            ]
          },
          "metadata": {
            "tags": []
          },
          "execution_count": 556
        },
        {
          "output_type": "execute_result",
          "data": {
            "text/plain": [
              "Text(0, 0.5, 'Incidents')"
            ]
          },
          "metadata": {
            "tags": []
          },
          "execution_count": 556
        },
        {
          "output_type": "stream",
          "text": [
            "No handles with labels found to put in legend.\n"
          ],
          "name": "stderr"
        },
        {
          "output_type": "execute_result",
          "data": {
            "text/plain": [
              "<matplotlib.legend.Legend at 0x7f03c4200b38>"
            ]
          },
          "metadata": {
            "tags": []
          },
          "execution_count": 556
        },
        {
          "output_type": "execute_result",
          "data": {
            "text/plain": [
              "<seaborn.axisgrid.FacetGrid at 0x7f03c41f5e48>"
            ]
          },
          "metadata": {
            "tags": []
          },
          "execution_count": 556
        },
        {
          "output_type": "stream",
          "text": [
            "Mean: 0 - Median: 0 - Mode: 0\n"
          ],
          "name": "stdout"
        },
        {
          "output_type": "display_data",
          "data": {
            "image/png": "[encoded data removed]",
            "text/plain": [
              "<Figure size 1440x720 with 1 Axes>"
            ]
          },
          "metadata": {
            "tags": [],
            "needs_background": "light"
          }
        },
        {
          "output_type": "display_data",
          "data": {
            "image/png": "[encoded data removed]",
            "text/plain": [
              "<Figure size 360x360 with 1 Axes>"
            ]
          },
          "metadata": {
            "tags": [],
            "needs_background": "light"
          }
        }
      ]
    }
  ]
}